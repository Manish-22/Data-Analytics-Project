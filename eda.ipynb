{
 "cells": [
  {
   "cell_type": "code",
   "execution_count": 40,
   "metadata": {},
   "outputs": [],
   "source": [
    "# packages and modules required are loaded here\n",
    "\n",
    "import pandas as pd\n",
    "import numpy as np"
   ]
  },
  {
   "cell_type": "markdown",
   "metadata": {},
   "source": [
    "## DATA PREPROCESSING\n",
    "\n",
    "### we are using NIFTY 50.csv , it comprises The NIFTY 50 is a **benchmark** Indian stock market index that represents the weighted average of 50 of the largest Indian companies listed on the National Stock Exchange. It is one of the two main stock indices used in India"
   ]
  },
  {
   "cell_type": "code",
   "execution_count": 41,
   "metadata": {},
   "outputs": [
    {
     "data": {
      "text/plain": [
       "Index(['Date', 'Open', 'High', 'Low', 'Close', 'Volume', 'Turnover'], dtype='object')"
      ]
     },
     "execution_count": 41,
     "metadata": {},
     "output_type": "execute_result"
    }
   ],
   "source": [
    "nifty50_df = pd.read_csv('datasets/inidices/NIFTY 50.csv')\n",
    "\n",
    "nifty50_df.columns"
   ]
  },
  {
   "cell_type": "code",
   "execution_count": 42,
   "metadata": {},
   "outputs": [
    {
     "data": {
      "text/plain": [
       "(7510, 7)"
      ]
     },
     "execution_count": 42,
     "metadata": {},
     "output_type": "execute_result"
    }
   ],
   "source": [
    "nifty50_df.shape"
   ]
  },
  {
   "cell_type": "code",
   "execution_count": 43,
   "metadata": {},
   "outputs": [
    {
     "name": "stdout",
     "output_type": "stream",
     "text": [
      "<class 'pandas.core.frame.DataFrame'>\n",
      "RangeIndex: 7510 entries, 0 to 7509\n",
      "Data columns (total 7 columns):\n",
      " #   Column    Non-Null Count  Dtype  \n",
      "---  ------    --------------  -----  \n",
      " 0   Date      7510 non-null   object \n",
      " 1   Open      7510 non-null   float64\n",
      " 2   High      7510 non-null   float64\n",
      " 3   Low       7510 non-null   float64\n",
      " 4   Close     7510 non-null   float64\n",
      " 5   Volume    6097 non-null   float64\n",
      " 6   Turnover  6097 non-null   float64\n",
      "dtypes: float64(6), object(1)\n",
      "memory usage: 410.8+ KB\n"
     ]
    }
   ],
   "source": [
    "nifty50_df.info()"
   ]
  },
  {
   "cell_type": "markdown",
   "metadata": {},
   "source": [
    "### From the volume and Turnover columns we see that they have null values as Stock inception in India is on 1995-11-03 \n",
    "- for practical purposes and to take into account factors like inflation,recession period,etc it makes sense to consider tuples from 2005-present\n",
    "    - covers pre and post recession period (dataset starting point 2000-01-03 )\n",
    "    - so to be consistent we also do a similar numerosity reduction for the other assets(gold) , and also for the other indices being used"
   ]
  },
  {
   "cell_type": "code",
   "execution_count": 44,
   "metadata": {},
   "outputs": [
    {
     "data": {
      "text/plain": [
       "<bound method NDFrame.head of             Date      Open      High       Low     Close       Volume  \\\n",
       "2161  2000-01-03   1482.15   1592.90   1482.15   1592.20   25358322.0   \n",
       "2162  2000-01-04   1594.40   1641.95   1594.40   1638.70   38787872.0   \n",
       "2163  2000-01-05   1634.55   1635.50   1555.05   1595.80   62153431.0   \n",
       "2164  2000-01-06   1595.80   1639.00   1595.80   1617.60   51272875.0   \n",
       "2165  2000-01-07   1616.60   1628.25   1597.20   1613.30   54315945.0   \n",
       "...          ...       ...       ...       ...       ...          ...   \n",
       "7505  2021-06-25  15839.35  15870.80  15772.30  15860.35  314614380.0   \n",
       "7506  2021-06-28  15915.35  15915.65  15792.15  15814.70  255099272.0   \n",
       "7507  2021-06-29  15807.50  15835.90  15724.05  15748.45  360334724.0   \n",
       "7508  2021-06-30  15776.90  15839.10  15708.75  15721.50  262386323.0   \n",
       "7509  2021-07-01  15755.05  15755.55  15667.05  15680.00  224921644.0   \n",
       "\n",
       "          Turnover  \n",
       "2161  8.841500e+09  \n",
       "2162  1.973690e+10  \n",
       "2163  3.084790e+10  \n",
       "2164  2.531180e+10  \n",
       "2165  1.914630e+10  \n",
       "...            ...  \n",
       "7505  2.693322e+11  \n",
       "7506  1.871341e+11  \n",
       "7507  2.439213e+11  \n",
       "7508  2.037976e+11  \n",
       "7509  1.735997e+11  \n",
       "\n",
       "[5349 rows x 7 columns]>"
      ]
     },
     "execution_count": 44,
     "metadata": {},
     "output_type": "execute_result"
    }
   ],
   "source": [
    "start = nifty50_df[nifty50_df['Date']=='2000-01-03'].index[0]\n",
    "# start\n",
    "nifty50_df = nifty50_df[start:]\n",
    "\n",
    "nifty50_df.head"
   ]
  },
  {
   "cell_type": "code",
   "execution_count": 45,
   "metadata": {},
   "outputs": [
    {
     "name": "stdout",
     "output_type": "stream",
     "text": [
      "<class 'pandas.core.frame.DataFrame'>\n",
      "RangeIndex: 5349 entries, 2161 to 7509\n",
      "Data columns (total 7 columns):\n",
      " #   Column    Non-Null Count  Dtype  \n",
      "---  ------    --------------  -----  \n",
      " 0   Date      5349 non-null   object \n",
      " 1   Open      5349 non-null   float64\n",
      " 2   High      5349 non-null   float64\n",
      " 3   Low       5349 non-null   float64\n",
      " 4   Close     5349 non-null   float64\n",
      " 5   Volume    5349 non-null   float64\n",
      " 6   Turnover  5349 non-null   float64\n",
      "dtypes: float64(6), object(1)\n",
      "memory usage: 292.7+ KB\n"
     ]
    }
   ],
   "source": [
    "nifty50_df.info()"
   ]
  },
  {
   "cell_type": "code",
   "execution_count": 46,
   "metadata": {},
   "outputs": [
    {
     "data": {
      "text/html": [
       "<div>\n",
       "<style scoped>\n",
       "    .dataframe tbody tr th:only-of-type {\n",
       "        vertical-align: middle;\n",
       "    }\n",
       "\n",
       "    .dataframe tbody tr th {\n",
       "        vertical-align: top;\n",
       "    }\n",
       "\n",
       "    .dataframe thead th {\n",
       "        text-align: right;\n",
       "    }\n",
       "</style>\n",
       "<table border=\"1\" class=\"dataframe\">\n",
       "  <thead>\n",
       "    <tr style=\"text-align: right;\">\n",
       "      <th></th>\n",
       "      <th>Open</th>\n",
       "      <th>High</th>\n",
       "      <th>Low</th>\n",
       "      <th>Close</th>\n",
       "      <th>Volume</th>\n",
       "      <th>Turnover</th>\n",
       "    </tr>\n",
       "  </thead>\n",
       "  <tbody>\n",
       "    <tr>\n",
       "      <th>count</th>\n",
       "      <td>5349.000000</td>\n",
       "      <td>5349.000000</td>\n",
       "      <td>5349.000000</td>\n",
       "      <td>5349.000000</td>\n",
       "      <td>5.349000e+03</td>\n",
       "      <td>5.349000e+03</td>\n",
       "    </tr>\n",
       "    <tr>\n",
       "      <th>mean</th>\n",
       "      <td>5631.777987</td>\n",
       "      <td>5668.969817</td>\n",
       "      <td>5586.647962</td>\n",
       "      <td>5628.562909</td>\n",
       "      <td>1.898864e+08</td>\n",
       "      <td>8.282568e+10</td>\n",
       "    </tr>\n",
       "    <tr>\n",
       "      <th>std</th>\n",
       "      <td>3659.900412</td>\n",
       "      <td>3671.555733</td>\n",
       "      <td>3638.389506</td>\n",
       "      <td>3655.210760</td>\n",
       "      <td>1.733888e+08</td>\n",
       "      <td>8.288374e+10</td>\n",
       "    </tr>\n",
       "    <tr>\n",
       "      <th>min</th>\n",
       "      <td>853.000000</td>\n",
       "      <td>877.000000</td>\n",
       "      <td>849.950000</td>\n",
       "      <td>854.200000</td>\n",
       "      <td>1.394931e+06</td>\n",
       "      <td>4.012000e+08</td>\n",
       "    </tr>\n",
       "    <tr>\n",
       "      <th>25%</th>\n",
       "      <td>2079.400000</td>\n",
       "      <td>2097.600000</td>\n",
       "      <td>2062.350000</td>\n",
       "      <td>2079.450000</td>\n",
       "      <td>8.127852e+07</td>\n",
       "      <td>3.157290e+10</td>\n",
       "    </tr>\n",
       "    <tr>\n",
       "      <th>50%</th>\n",
       "      <td>5233.450000</td>\n",
       "      <td>5274.950000</td>\n",
       "      <td>5195.900000</td>\n",
       "      <td>5230.100000</td>\n",
       "      <td>1.423860e+08</td>\n",
       "      <td>6.099090e+10</td>\n",
       "    </tr>\n",
       "    <tr>\n",
       "      <th>75%</th>\n",
       "      <td>8327.800000</td>\n",
       "      <td>8364.750000</td>\n",
       "      <td>8270.150000</td>\n",
       "      <td>8324.150000</td>\n",
       "      <td>2.166700e+08</td>\n",
       "      <td>9.256510e+10</td>\n",
       "    </tr>\n",
       "    <tr>\n",
       "      <th>max</th>\n",
       "      <td>15915.350000</td>\n",
       "      <td>15915.650000</td>\n",
       "      <td>15842.400000</td>\n",
       "      <td>15869.250000</td>\n",
       "      <td>1.811564e+09</td>\n",
       "      <td>7.852293e+11</td>\n",
       "    </tr>\n",
       "  </tbody>\n",
       "</table>\n",
       "</div>"
      ],
      "text/plain": [
       "               Open          High           Low         Close        Volume  \\\n",
       "count   5349.000000   5349.000000   5349.000000   5349.000000  5.349000e+03   \n",
       "mean    5631.777987   5668.969817   5586.647962   5628.562909  1.898864e+08   \n",
       "std     3659.900412   3671.555733   3638.389506   3655.210760  1.733888e+08   \n",
       "min      853.000000    877.000000    849.950000    854.200000  1.394931e+06   \n",
       "25%     2079.400000   2097.600000   2062.350000   2079.450000  8.127852e+07   \n",
       "50%     5233.450000   5274.950000   5195.900000   5230.100000  1.423860e+08   \n",
       "75%     8327.800000   8364.750000   8270.150000   8324.150000  2.166700e+08   \n",
       "max    15915.350000  15915.650000  15842.400000  15869.250000  1.811564e+09   \n",
       "\n",
       "           Turnover  \n",
       "count  5.349000e+03  \n",
       "mean   8.282568e+10  \n",
       "std    8.288374e+10  \n",
       "min    4.012000e+08  \n",
       "25%    3.157290e+10  \n",
       "50%    6.099090e+10  \n",
       "75%    9.256510e+10  \n",
       "max    7.852293e+11  "
      ]
     },
     "execution_count": 46,
     "metadata": {},
     "output_type": "execute_result"
    }
   ],
   "source": [
    "nifty50_df.describe()"
   ]
  },
  {
   "cell_type": "markdown",
   "metadata": {},
   "source": [
    "### Similarly for the other datasets we are using we go for Numerosity reduction(start of time:2000-01-03) for the above mentioned reasons"
   ]
  },
  {
   "cell_type": "code",
   "execution_count": 47,
   "metadata": {},
   "outputs": [
    {
     "name": "stdout",
     "output_type": "stream",
     "text": [
      "Auto index info:\n",
      "\n",
      "<class 'pandas.core.frame.DataFrame'>\n",
      "RangeIndex: 4092 entries, 254 to 4345\n",
      "Data columns (total 7 columns):\n",
      " #   Column    Non-Null Count  Dtype  \n",
      "---  ------    --------------  -----  \n",
      " 0   Date      4092 non-null   object \n",
      " 1   Open      2414 non-null   float64\n",
      " 2   High      2414 non-null   float64\n",
      " 3   Low       2414 non-null   float64\n",
      " 4   Close     4092 non-null   float64\n",
      " 5   Volume    2461 non-null   float64\n",
      " 6   Turnover  2461 non-null   float64\n",
      "dtypes: float64(6), object(1)\n",
      "memory usage: 223.9+ KB\n"
     ]
    }
   ],
   "source": [
    "niftyAuto_df = pd.read_csv('datasets/inidices/NIFTY AUTO.csv')\n",
    "start = niftyAuto_df[niftyAuto_df['Date']=='2005-01-03'].index[0]\n",
    "niftyAuto_df = niftyAuto_df[start:]\n",
    "\n",
    "\n",
    "niftyBank_df = pd.read_csv('datasets/inidices/NIFTY BANK.csv')\n",
    "start = niftyBank_df[niftyBank_df['Date']=='2005-01-03'].index[0]\n",
    "niftyBank_df = niftyBank_df[start:]\n",
    "\n",
    "niftyIT_df = pd.read_csv('datasets/inidices/NIFTY IT.csv')\n",
    "start = niftyIT_df[niftyIT_df['Date']=='2005-01-03'].index[0]\n",
    "niftyIT_df = niftyIT_df[start:]\n",
    "\n",
    "niftyFin_Services_df = pd.read_csv('datasets/inidices/NIFTY FIN SERVICE.csv')\n",
    "start = niftyFin_Services_df[niftyFin_Services_df['Date']=='2005-01-03'].index[0]\n",
    "niftyFin_Services_df = niftyFin_Services_df[start:]\n",
    "\n",
    "print(\"Auto index info:\\n\")\n",
    "niftyAuto_df.info()\n"
   ]
  },
  {
   "cell_type": "code",
   "execution_count": 48,
   "metadata": {},
   "outputs": [
    {
     "name": "stdout",
     "output_type": "stream",
     "text": [
      "\n",
      "\n",
      "Bank index info:\n",
      "\n",
      "<class 'pandas.core.frame.DataFrame'>\n",
      "RangeIndex: 4092 entries, 1258 to 5349\n",
      "Data columns (total 7 columns):\n",
      " #   Column    Non-Null Count  Dtype  \n",
      "---  ------    --------------  -----  \n",
      " 0   Date      4092 non-null   object \n",
      " 1   Open      3982 non-null   float64\n",
      " 2   High      3982 non-null   float64\n",
      " 3   Low       3982 non-null   float64\n",
      " 4   Close     4092 non-null   float64\n",
      " 5   Volume    4082 non-null   float64\n",
      " 6   Turnover  4082 non-null   float64\n",
      "dtypes: float64(6), object(1)\n",
      "memory usage: 223.9+ KB\n"
     ]
    }
   ],
   "source": [
    "print(\"\\n\\nBank index info:\\n\")\n",
    "niftyBank_df.info()"
   ]
  },
  {
   "cell_type": "markdown",
   "metadata": {},
   "source": [
    "print(\"\\n\\nIT index info:\\n\")\n",
    "niftyIT_df.info()"
   ]
  },
  {
   "cell_type": "code",
   "execution_count": 49,
   "metadata": {},
   "outputs": [
    {
     "name": "stdout",
     "output_type": "stream",
     "text": [
      "\n",
      "\n",
      "Fin_Services index info:\n",
      "\n",
      "<class 'pandas.core.frame.DataFrame'>\n",
      "RangeIndex: 4092 entries, 254 to 4345\n",
      "Data columns (total 7 columns):\n",
      " #   Column    Non-Null Count  Dtype  \n",
      "---  ------    --------------  -----  \n",
      " 0   Date      4092 non-null   object \n",
      " 1   Open      2315 non-null   float64\n",
      " 2   High      2315 non-null   float64\n",
      " 3   Low       2315 non-null   float64\n",
      " 4   Close     4092 non-null   float64\n",
      " 5   Volume    2417 non-null   float64\n",
      " 6   Turnover  2417 non-null   float64\n",
      "dtypes: float64(6), object(1)\n",
      "memory usage: 223.9+ KB\n"
     ]
    }
   ],
   "source": [
    "print(\"\\n\\nFin_Services index info:\\n\")\n",
    "niftyFin_Services_df.info()"
   ]
  },
  {
   "cell_type": "code",
   "execution_count": 51,
   "metadata": {},
   "outputs": [
    {
     "name": "stdout",
     "output_type": "stream",
     "text": [
      "\n",
      "\n",
      "Gold prices info:\n",
      "\n",
      "<class 'pandas.core.frame.DataFrame'>\n",
      "RangeIndex: 1660 entries, 1659 to 0\n",
      "Data columns (total 13 columns):\n",
      " #   Column                     Non-Null Count  Dtype  \n",
      "---  ------                     --------------  -----  \n",
      " 0   Date                       1660 non-null   object \n",
      " 1   Open                       1660 non-null   float64\n",
      " 2   High                       1660 non-null   float64\n",
      " 3   Low                        1660 non-null   float64\n",
      " 4   Close                      1660 non-null   float64\n",
      " 5   WAP                        1660 non-null   float64\n",
      " 6   No. of Shares              1660 non-null   float64\n",
      " 7   No. of Trades              1660 non-null   float64\n",
      " 8   Total Turnover             1660 non-null   float64\n",
      " 9   Deliverable Quantity       1660 non-null   float64\n",
      " 10  % Deli. Qty to Traded Qty  1660 non-null   float64\n",
      " 11  Spread H-L                 1660 non-null   float64\n",
      " 12  Spread C-O                 1660 non-null   float64\n",
      "dtypes: float64(12), object(1)\n",
      "memory usage: 168.7+ KB\n"
     ]
    }
   ],
   "source": [
    "#  We have the start point from 2009-12-01\n",
    "goldPrices_df = pd.read_csv('datasets/gold_prices.csv')\n",
    "\n",
    "# need to reverse the dataset as last row has oldest date\n",
    "goldPrices_df = goldPrices_df[::-1]\n",
    "\n",
    "print(\"\\n\\nGold prices info:\\n\")\n",
    "goldPrices_df.info()"
   ]
  },
  {
   "cell_type": "markdown",
   "metadata": {},
   "source": [
    "## All data has been preprocessed, we can move to Descriptive Analytics"
   ]
  }
 ],
 "metadata": {
  "interpreter": {
   "hash": "d561c1bf2e6851bd79211bead0d24080a821613026c569880630f742ae255c4b"
  },
  "kernelspec": {
   "display_name": "Python 3.9.5 64-bit",
   "name": "python3"
  },
  "language_info": {
   "codemirror_mode": {
    "name": "ipython",
    "version": 3
   },
   "file_extension": ".py",
   "mimetype": "text/x-python",
   "name": "python",
   "nbconvert_exporter": "python",
   "pygments_lexer": "ipython3",
   "version": "3.9.5"
  },
  "orig_nbformat": 4
 },
 "nbformat": 4,
 "nbformat_minor": 2
}
