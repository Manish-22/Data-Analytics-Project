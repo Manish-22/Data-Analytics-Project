{
 "cells": [
  {
   "cell_type": "code",
   "execution_count": 94,
   "metadata": {},
   "outputs": [],
   "source": [
    "import pandas as pd\n",
    "import numpy as np\n",
    "import matplotlib.pyplot as plt\n",
    "from sklearn.linear_model import LinearRegression\n",
    "from sklearn.svm import LinearSVR\n",
    "from sklearn import metrics\n",
    "from sklearn.preprocessing import StandardScaler\n",
    "from sklearn.pipeline import Pipeline\n",
    "from sklearn.tree import DecisionTreeRegressor\n",
    "from sklearn.ensemble import RandomForestRegressor\n",
    "from math import sqrt"
   ]
  },
  {
   "cell_type": "code",
   "execution_count": 95,
   "metadata": {},
   "outputs": [],
   "source": [
    "def data_split(data, all = False):\n",
    "\n",
    "    data_copy = data.copy()\n",
    "    \n",
    "    if(all == False):            \n",
    "        train_data = data_copy[:-365]\n",
    "        test_data = data_copy[-365:]\n",
    "    else:\n",
    "        num_data = data_copy.shape[0]\n",
    "        split_val = int(num_data*0.8)\n",
    "        train_data = data_copy[:split_val]\n",
    "        test_data = data_copy[split_val:]\n",
    "\n",
    "    X_train = train_data[['Open','High','Low','Volume','Turnover']]\n",
    "    Y_train = train_data[['Close']]\n",
    "\n",
    "    X_test = test_data[['Open','High','Low','Volume','Turnover']]\n",
    "    Y_test = test_data[['Close']]\n",
    "\n",
    "    return X_train,Y_train,X_test,Y_test\n",
    "    "
   ]
  },
  {
   "cell_type": "code",
   "execution_count": 96,
   "metadata": {},
   "outputs": [],
   "source": [
    "def readData(path):\n",
    "    data = pd.read_csv(path, index_col='Date', parse_dates=True, dayfirst=True)\n",
    "    data = data.loc['2012-03-01': '2021-01-07']\n",
    "    data.dropna(inplace = True)\n",
    "    return data"
   ]
  },
  {
   "cell_type": "code",
   "execution_count": 97,
   "metadata": {},
   "outputs": [],
   "source": [
    "def volatility(data, Rf):\n",
    "    \n",
    "    Nifty = readData('../datasets/inidices/NIFTY 50.csv')\n",
    "    Nifty = Nifty.loc['2019-1-1':'2021-1-1']\n",
    "\n",
    "    data = data.loc['2019-1-1':'2021-1-1']\n",
    "\n",
    "    beta = np.cov(Nifty['Close'], data['Close'])[0][1]/data['Close'].var()\n",
    "\n",
    "    alpha = (data['Close'][-1] - data['Close'][0])/data['Close'][0] - Rf + beta * ((Nifty['Close'][-1] - Nifty['Close'][0])/Nifty['Close'][0] - Rf)\n",
    "\n",
    "    return (alpha, beta)"
   ]
  },
  {
   "cell_type": "code",
   "execution_count": 98,
   "metadata": {},
   "outputs": [],
   "source": [
    "def SVRModel(Xtrain, Ytrain, Xtest, Ytest):\n",
    "    \n",
    "    i = 0.0001\n",
    "    temp = []\n",
    "\n",
    "    while(i <= 100):\n",
    "        \n",
    "        PipelineObject = Pipeline([('Scaler', StandardScaler()), ('svr', LinearSVR(C = i))])\n",
    "        PipelineObject.fit(Xtrain,Ytrain)\n",
    "        predictedSVR = PipelineObject.predict(Xtest)\n",
    "        temp.append([PipelineObject, sqrt(metrics.mean_squared_error(Ytest, predictedSVR)), i])\n",
    "        i = i * 10\n",
    "    \n",
    "    return (min(temp, key = lambda x: x[1]))"
   ]
  },
  {
   "cell_type": "code",
   "execution_count": 99,
   "metadata": {},
   "outputs": [],
   "source": [
    "def SVRModelFinal(data, c):\n",
    "\n",
    "    PipelineObject = Pipeline([('Scaler', StandardScaler()), ('svr', LinearSVR(C = c))])\n",
    "    Xtrain = data[['Open','High','Low','Volume','Turnover']]\n",
    "    Ytrain = data[['Close']]\n",
    "    PipelineObject.fit(Xtrain,Ytrain)\n",
    "\n",
    "    return PipelineObject"
   ]
  },
  {
   "cell_type": "code",
   "execution_count": 100,
   "metadata": {},
   "outputs": [],
   "source": [
    "def LRModel(Xtrain, Ytrain, Xtest, Ytest):\n",
    "    \n",
    "    Regressor = LinearRegression()\n",
    "    model = Regressor.fit(Xtrain, Ytrain)\n",
    "    predictedLR = Regressor.predict(Xtest)\n",
    "    \n",
    "    return (model, sqrt(metrics.mean_squared_error(Ytest, predictedLR)))"
   ]
  },
  {
   "cell_type": "code",
   "execution_count": 101,
   "metadata": {},
   "outputs": [],
   "source": [
    "def LRModelFinal(data):\n",
    "\n",
    "    Regressor = LinearRegression()\n",
    "    Xtrain = data[['Open','High','Low','Volume','Turnover']]\n",
    "    Ytrain = data[['Close']]\n",
    "    model = Regressor.fit(Xtrain, Ytrain['Close'].tolist())\n",
    "    \n",
    "    return model"
   ]
  },
  {
   "cell_type": "code",
   "execution_count": 102,
   "metadata": {},
   "outputs": [],
   "source": [
    "def DTRModel(Xtrain, Ytrain, Xtest, Ytest):\n",
    "\n",
    "    min_rmse = -1\n",
    "    min_model = None\n",
    "    min_maxleaf =None\n",
    "    \n",
    "    for max_leaf_nodes in [5, 50, 500, 5000]:\n",
    "    \n",
    "        my_model,my_rmse = DTRGetRMSE(max_leaf_nodes, Xtrain, Xtest, Ytrain, Ytest)\n",
    "    \n",
    "        if min_rmse==-1 or min_rmse>my_rmse:\n",
    "            min_rmse=my_rmse\n",
    "            min_model = my_model\n",
    "            min_maxleaf = max_leaf_nodes\n",
    "    \n",
    "    return (min_model,min_rmse,min_maxleaf)"
   ]
  },
  {
   "cell_type": "code",
   "execution_count": 103,
   "metadata": {},
   "outputs": [],
   "source": [
    "def DTRModelFinal(data,c_max_leaf_nodes):\n",
    "\n",
    "    Regressor = DecisionTreeRegressor(max_leaf_nodes=c_max_leaf_nodes)\n",
    "    Xtrain = data[['Open','High','Low','Volume','Turnover']]\n",
    "    Ytrain = data[['Close']]\n",
    "    model = Regressor.fit(Xtrain, Ytrain['Close'].tolist())\n",
    "    \n",
    "    return model"
   ]
  },
  {
   "cell_type": "code",
   "execution_count": 104,
   "metadata": {},
   "outputs": [],
   "source": [
    "def DTRGetRMSE(max_leaf_nodes, train_X, val_X, train_y, val_y):\n",
    "    model = DecisionTreeRegressor(max_leaf_nodes=max_leaf_nodes, random_state=0)\n",
    "    model.fit(train_X, train_y)\n",
    "    preds_val = model.predict(val_X)\n",
    "    rmse = sqrt(metrics.mean_squared_error(val_y, preds_val))\n",
    "    return model,rmse"
   ]
  },
  {
   "cell_type": "code",
   "execution_count": 105,
   "metadata": {},
   "outputs": [],
   "source": [
    "def RFModel(Xtrain, Ytrain, Xtest, Ytest):\n",
    "\n",
    "    min_rmse = -1\n",
    "    min_model = None\n",
    "    min_maxleaf =None\n",
    "    \n",
    "    for max_leaf_nodes in [5, 50, 500, 5000]:\n",
    "    \n",
    "        my_model,my_rmse = RFGetRMSE(max_leaf_nodes, Xtrain, Xtest, Ytrain, Ytest)\n",
    "    \n",
    "        if min_rmse==-1 or min_rmse>my_rmse:\n",
    "    \n",
    "            min_rmse=my_rmse\n",
    "            min_model = my_model\n",
    "            min_maxleaf = max_leaf_nodes\n",
    "    \n",
    "    return min_model,min_rmse,min_maxleaf"
   ]
  },
  {
   "cell_type": "code",
   "execution_count": 106,
   "metadata": {},
   "outputs": [],
   "source": [
    "def RFGetRMSE(max_leaf_nodes, train_X, val_X, train_y, val_y):\n",
    "    \n",
    "    model = RandomForestRegressor(max_leaf_nodes=max_leaf_nodes, random_state=0)\n",
    "    model.fit(train_X, train_y)\n",
    "    preds_val = model.predict(val_X)\n",
    "    rmse = sqrt(metrics.mean_squared_error(val_y, preds_val))\n",
    "    \n",
    "    return model,rmse"
   ]
  },
  {
   "cell_type": "code",
   "execution_count": 107,
   "metadata": {},
   "outputs": [],
   "source": [
    "def RFModelFinal(data,c_max_leaf_nodes):\n",
    "\n",
    "    Regressor = RandomForestRegressor(max_leaf_nodes=c_max_leaf_nodes)\n",
    "    Xtrain = data[['Open','High','Low','Volume','Turnover']]\n",
    "    Ytrain = data[['Close']]\n",
    "    model = Regressor.fit(Xtrain, Ytrain['Close'].tolist())\n",
    "    \n",
    "    return model"
   ]
  },
  {
   "cell_type": "code",
   "execution_count": 108,
   "metadata": {},
   "outputs": [],
   "source": [
    "data = readData('../datasets/companies/LICHSGFIN.csv')"
   ]
  },
  {
   "cell_type": "code",
   "execution_count": 109,
   "metadata": {},
   "outputs": [],
   "source": [
    "X_train,Y_train,X_test,Y_test = data_split(data, True)"
   ]
  },
  {
   "cell_type": "code",
   "execution_count": 110,
   "metadata": {},
   "outputs": [
    {
     "name": "stderr",
     "output_type": "stream",
     "text": [
      "b:\\PESU Labs\\Data Analytics\\lib\\site-packages\\sklearn\\svm\\_base.py:1206: ConvergenceWarning: Liblinear failed to converge, increase the number of iterations.\n",
      "  warnings.warn(\n",
      "C:\\Users\\likit\\AppData\\Local\\Temp/ipykernel_8052/3701300969.py:4: DataConversionWarning: A column-vector y was passed when a 1d array was expected. Please change the shape of y to (n_samples,), for example using ravel().\n",
      "  model.fit(train_X, train_y)\n",
      "C:\\Users\\likit\\AppData\\Local\\Temp/ipykernel_8052/3701300969.py:4: DataConversionWarning: A column-vector y was passed when a 1d array was expected. Please change the shape of y to (n_samples,), for example using ravel().\n",
      "  model.fit(train_X, train_y)\n",
      "C:\\Users\\likit\\AppData\\Local\\Temp/ipykernel_8052/3701300969.py:4: DataConversionWarning: A column-vector y was passed when a 1d array was expected. Please change the shape of y to (n_samples,), for example using ravel().\n",
      "  model.fit(train_X, train_y)\n",
      "C:\\Users\\likit\\AppData\\Local\\Temp/ipykernel_8052/3701300969.py:4: DataConversionWarning: A column-vector y was passed when a 1d array was expected. Please change the shape of y to (n_samples,), for example using ravel().\n",
      "  model.fit(train_X, train_y)\n",
      "b:\\PESU Labs\\Data Analytics\\lib\\site-packages\\sklearn\\utils\\validation.py:985: DataConversionWarning: A column-vector y was passed when a 1d array was expected. Please change the shape of y to (n_samples, ), for example using ravel().\n",
      "  y = column_or_1d(y, warn=True)\n",
      "b:\\PESU Labs\\Data Analytics\\lib\\site-packages\\sklearn\\svm\\_base.py:1206: ConvergenceWarning: Liblinear failed to converge, increase the number of iterations.\n",
      "  warnings.warn(\n",
      "b:\\PESU Labs\\Data Analytics\\lib\\site-packages\\sklearn\\svm\\_base.py:1206: ConvergenceWarning: Liblinear failed to converge, increase the number of iterations.\n",
      "  warnings.warn(\n",
      "C:\\Users\\likit\\AppData\\Local\\Temp/ipykernel_8052/3701300969.py:4: DataConversionWarning: A column-vector y was passed when a 1d array was expected. Please change the shape of y to (n_samples,), for example using ravel().\n",
      "  model.fit(train_X, train_y)\n",
      "C:\\Users\\likit\\AppData\\Local\\Temp/ipykernel_8052/3701300969.py:4: DataConversionWarning: A column-vector y was passed when a 1d array was expected. Please change the shape of y to (n_samples,), for example using ravel().\n",
      "  model.fit(train_X, train_y)\n",
      "C:\\Users\\likit\\AppData\\Local\\Temp/ipykernel_8052/3701300969.py:4: DataConversionWarning: A column-vector y was passed when a 1d array was expected. Please change the shape of y to (n_samples,), for example using ravel().\n",
      "  model.fit(train_X, train_y)\n",
      "C:\\Users\\likit\\AppData\\Local\\Temp/ipykernel_8052/3701300969.py:4: DataConversionWarning: A column-vector y was passed when a 1d array was expected. Please change the shape of y to (n_samples,), for example using ravel().\n",
      "  model.fit(train_X, train_y)\n",
      "b:\\PESU Labs\\Data Analytics\\lib\\site-packages\\sklearn\\svm\\_base.py:1206: ConvergenceWarning: Liblinear failed to converge, increase the number of iterations.\n",
      "  warnings.warn(\n",
      "C:\\Users\\likit\\AppData\\Local\\Temp/ipykernel_8052/3701300969.py:4: DataConversionWarning: A column-vector y was passed when a 1d array was expected. Please change the shape of y to (n_samples,), for example using ravel().\n",
      "  model.fit(train_X, train_y)\n",
      "C:\\Users\\likit\\AppData\\Local\\Temp/ipykernel_8052/3701300969.py:4: DataConversionWarning: A column-vector y was passed when a 1d array was expected. Please change the shape of y to (n_samples,), for example using ravel().\n",
      "  model.fit(train_X, train_y)\n",
      "C:\\Users\\likit\\AppData\\Local\\Temp/ipykernel_8052/3701300969.py:4: DataConversionWarning: A column-vector y was passed when a 1d array was expected. Please change the shape of y to (n_samples,), for example using ravel().\n",
      "  model.fit(train_X, train_y)\n",
      "C:\\Users\\likit\\AppData\\Local\\Temp/ipykernel_8052/3701300969.py:4: DataConversionWarning: A column-vector y was passed when a 1d array was expected. Please change the shape of y to (n_samples,), for example using ravel().\n",
      "  model.fit(train_X, train_y)\n",
      "b:\\PESU Labs\\Data Analytics\\lib\\site-packages\\sklearn\\svm\\_base.py:1206: ConvergenceWarning: Liblinear failed to converge, increase the number of iterations.\n",
      "  warnings.warn(\n",
      "C:\\Users\\likit\\AppData\\Local\\Temp/ipykernel_8052/3701300969.py:4: DataConversionWarning: A column-vector y was passed when a 1d array was expected. Please change the shape of y to (n_samples,), for example using ravel().\n",
      "  model.fit(train_X, train_y)\n",
      "C:\\Users\\likit\\AppData\\Local\\Temp/ipykernel_8052/3701300969.py:4: DataConversionWarning: A column-vector y was passed when a 1d array was expected. Please change the shape of y to (n_samples,), for example using ravel().\n",
      "  model.fit(train_X, train_y)\n",
      "C:\\Users\\likit\\AppData\\Local\\Temp/ipykernel_8052/3701300969.py:4: DataConversionWarning: A column-vector y was passed when a 1d array was expected. Please change the shape of y to (n_samples,), for example using ravel().\n",
      "  model.fit(train_X, train_y)\n",
      "C:\\Users\\likit\\AppData\\Local\\Temp/ipykernel_8052/3701300969.py:4: DataConversionWarning: A column-vector y was passed when a 1d array was expected. Please change the shape of y to (n_samples,), for example using ravel().\n",
      "  model.fit(train_X, train_y)\n",
      "b:\\PESU Labs\\Data Analytics\\lib\\site-packages\\sklearn\\svm\\_base.py:1206: ConvergenceWarning: Liblinear failed to converge, increase the number of iterations.\n",
      "  warnings.warn(\n",
      "b:\\PESU Labs\\Data Analytics\\lib\\site-packages\\sklearn\\svm\\_base.py:1206: ConvergenceWarning: Liblinear failed to converge, increase the number of iterations.\n",
      "  warnings.warn(\n",
      "C:\\Users\\likit\\AppData\\Local\\Temp/ipykernel_8052/3701300969.py:4: DataConversionWarning: A column-vector y was passed when a 1d array was expected. Please change the shape of y to (n_samples,), for example using ravel().\n",
      "  model.fit(train_X, train_y)\n",
      "C:\\Users\\likit\\AppData\\Local\\Temp/ipykernel_8052/3701300969.py:4: DataConversionWarning: A column-vector y was passed when a 1d array was expected. Please change the shape of y to (n_samples,), for example using ravel().\n",
      "  model.fit(train_X, train_y)\n",
      "C:\\Users\\likit\\AppData\\Local\\Temp/ipykernel_8052/3701300969.py:4: DataConversionWarning: A column-vector y was passed when a 1d array was expected. Please change the shape of y to (n_samples,), for example using ravel().\n",
      "  model.fit(train_X, train_y)\n",
      "C:\\Users\\likit\\AppData\\Local\\Temp/ipykernel_8052/3701300969.py:4: DataConversionWarning: A column-vector y was passed when a 1d array was expected. Please change the shape of y to (n_samples,), for example using ravel().\n",
      "  model.fit(train_X, train_y)\n",
      "b:\\PESU Labs\\Data Analytics\\lib\\site-packages\\sklearn\\svm\\_base.py:1206: ConvergenceWarning: Liblinear failed to converge, increase the number of iterations.\n",
      "  warnings.warn(\n",
      "C:\\Users\\likit\\AppData\\Local\\Temp/ipykernel_8052/3701300969.py:4: DataConversionWarning: A column-vector y was passed when a 1d array was expected. Please change the shape of y to (n_samples,), for example using ravel().\n",
      "  model.fit(train_X, train_y)\n",
      "C:\\Users\\likit\\AppData\\Local\\Temp/ipykernel_8052/3701300969.py:4: DataConversionWarning: A column-vector y was passed when a 1d array was expected. Please change the shape of y to (n_samples,), for example using ravel().\n",
      "  model.fit(train_X, train_y)\n",
      "C:\\Users\\likit\\AppData\\Local\\Temp/ipykernel_8052/3701300969.py:4: DataConversionWarning: A column-vector y was passed when a 1d array was expected. Please change the shape of y to (n_samples,), for example using ravel().\n",
      "  model.fit(train_X, train_y)\n",
      "C:\\Users\\likit\\AppData\\Local\\Temp/ipykernel_8052/3701300969.py:4: DataConversionWarning: A column-vector y was passed when a 1d array was expected. Please change the shape of y to (n_samples,), for example using ravel().\n",
      "  model.fit(train_X, train_y)\n",
      "b:\\PESU Labs\\Data Analytics\\lib\\site-packages\\sklearn\\utils\\validation.py:985: DataConversionWarning: A column-vector y was passed when a 1d array was expected. Please change the shape of y to (n_samples, ), for example using ravel().\n",
      "  y = column_or_1d(y, warn=True)\n",
      "b:\\PESU Labs\\Data Analytics\\lib\\site-packages\\sklearn\\svm\\_base.py:1206: ConvergenceWarning: Liblinear failed to converge, increase the number of iterations.\n",
      "  warnings.warn(\n",
      "b:\\PESU Labs\\Data Analytics\\lib\\site-packages\\sklearn\\svm\\_base.py:1206: ConvergenceWarning: Liblinear failed to converge, increase the number of iterations.\n",
      "  warnings.warn(\n",
      "C:\\Users\\likit\\AppData\\Local\\Temp/ipykernel_8052/3701300969.py:4: DataConversionWarning: A column-vector y was passed when a 1d array was expected. Please change the shape of y to (n_samples,), for example using ravel().\n",
      "  model.fit(train_X, train_y)\n",
      "C:\\Users\\likit\\AppData\\Local\\Temp/ipykernel_8052/3701300969.py:4: DataConversionWarning: A column-vector y was passed when a 1d array was expected. Please change the shape of y to (n_samples,), for example using ravel().\n",
      "  model.fit(train_X, train_y)\n",
      "C:\\Users\\likit\\AppData\\Local\\Temp/ipykernel_8052/3701300969.py:4: DataConversionWarning: A column-vector y was passed when a 1d array was expected. Please change the shape of y to (n_samples,), for example using ravel().\n",
      "  model.fit(train_X, train_y)\n",
      "C:\\Users\\likit\\AppData\\Local\\Temp/ipykernel_8052/3701300969.py:4: DataConversionWarning: A column-vector y was passed when a 1d array was expected. Please change the shape of y to (n_samples,), for example using ravel().\n",
      "  model.fit(train_X, train_y)\n",
      "b:\\PESU Labs\\Data Analytics\\lib\\site-packages\\sklearn\\svm\\_base.py:1206: ConvergenceWarning: Liblinear failed to converge, increase the number of iterations.\n",
      "  warnings.warn(\n",
      "C:\\Users\\likit\\AppData\\Local\\Temp/ipykernel_8052/3701300969.py:4: DataConversionWarning: A column-vector y was passed when a 1d array was expected. Please change the shape of y to (n_samples,), for example using ravel().\n",
      "  model.fit(train_X, train_y)\n",
      "C:\\Users\\likit\\AppData\\Local\\Temp/ipykernel_8052/3701300969.py:4: DataConversionWarning: A column-vector y was passed when a 1d array was expected. Please change the shape of y to (n_samples,), for example using ravel().\n",
      "  model.fit(train_X, train_y)\n",
      "C:\\Users\\likit\\AppData\\Local\\Temp/ipykernel_8052/3701300969.py:4: DataConversionWarning: A column-vector y was passed when a 1d array was expected. Please change the shape of y to (n_samples,), for example using ravel().\n",
      "  model.fit(train_X, train_y)\n",
      "C:\\Users\\likit\\AppData\\Local\\Temp/ipykernel_8052/3701300969.py:4: DataConversionWarning: A column-vector y was passed when a 1d array was expected. Please change the shape of y to (n_samples,), for example using ravel().\n",
      "  model.fit(train_X, train_y)\n",
      "b:\\PESU Labs\\Data Analytics\\lib\\site-packages\\sklearn\\utils\\validation.py:985: DataConversionWarning: A column-vector y was passed when a 1d array was expected. Please change the shape of y to (n_samples, ), for example using ravel().\n",
      "  y = column_or_1d(y, warn=True)\n",
      "b:\\PESU Labs\\Data Analytics\\lib\\site-packages\\sklearn\\svm\\_base.py:1206: ConvergenceWarning: Liblinear failed to converge, increase the number of iterations.\n",
      "  warnings.warn(\n",
      "b:\\PESU Labs\\Data Analytics\\lib\\site-packages\\sklearn\\svm\\_base.py:1206: ConvergenceWarning: Liblinear failed to converge, increase the number of iterations.\n",
      "  warnings.warn(\n",
      "C:\\Users\\likit\\AppData\\Local\\Temp/ipykernel_8052/3701300969.py:4: DataConversionWarning: A column-vector y was passed when a 1d array was expected. Please change the shape of y to (n_samples,), for example using ravel().\n",
      "  model.fit(train_X, train_y)\n",
      "C:\\Users\\likit\\AppData\\Local\\Temp/ipykernel_8052/3701300969.py:4: DataConversionWarning: A column-vector y was passed when a 1d array was expected. Please change the shape of y to (n_samples,), for example using ravel().\n",
      "  model.fit(train_X, train_y)\n",
      "C:\\Users\\likit\\AppData\\Local\\Temp/ipykernel_8052/3701300969.py:4: DataConversionWarning: A column-vector y was passed when a 1d array was expected. Please change the shape of y to (n_samples,), for example using ravel().\n",
      "  model.fit(train_X, train_y)\n",
      "C:\\Users\\likit\\AppData\\Local\\Temp/ipykernel_8052/3701300969.py:4: DataConversionWarning: A column-vector y was passed when a 1d array was expected. Please change the shape of y to (n_samples,), for example using ravel().\n",
      "  model.fit(train_X, train_y)\n",
      "b:\\PESU Labs\\Data Analytics\\lib\\site-packages\\sklearn\\utils\\validation.py:985: DataConversionWarning: A column-vector y was passed when a 1d array was expected. Please change the shape of y to (n_samples, ), for example using ravel().\n",
      "  y = column_or_1d(y, warn=True)\n",
      "b:\\PESU Labs\\Data Analytics\\lib\\site-packages\\sklearn\\svm\\_base.py:1206: ConvergenceWarning: Liblinear failed to converge, increase the number of iterations.\n",
      "  warnings.warn(\n",
      "b:\\PESU Labs\\Data Analytics\\lib\\site-packages\\sklearn\\svm\\_base.py:1206: ConvergenceWarning: Liblinear failed to converge, increase the number of iterations.\n",
      "  warnings.warn(\n",
      "b:\\PESU Labs\\Data Analytics\\lib\\site-packages\\sklearn\\svm\\_base.py:1206: ConvergenceWarning: Liblinear failed to converge, increase the number of iterations.\n",
      "  warnings.warn(\n",
      "C:\\Users\\likit\\AppData\\Local\\Temp/ipykernel_8052/3701300969.py:4: DataConversionWarning: A column-vector y was passed when a 1d array was expected. Please change the shape of y to (n_samples,), for example using ravel().\n",
      "  model.fit(train_X, train_y)\n",
      "C:\\Users\\likit\\AppData\\Local\\Temp/ipykernel_8052/3701300969.py:4: DataConversionWarning: A column-vector y was passed when a 1d array was expected. Please change the shape of y to (n_samples,), for example using ravel().\n",
      "  model.fit(train_X, train_y)\n",
      "C:\\Users\\likit\\AppData\\Local\\Temp/ipykernel_8052/3701300969.py:4: DataConversionWarning: A column-vector y was passed when a 1d array was expected. Please change the shape of y to (n_samples,), for example using ravel().\n",
      "  model.fit(train_X, train_y)\n",
      "C:\\Users\\likit\\AppData\\Local\\Temp/ipykernel_8052/3701300969.py:4: DataConversionWarning: A column-vector y was passed when a 1d array was expected. Please change the shape of y to (n_samples,), for example using ravel().\n",
      "  model.fit(train_X, train_y)\n",
      "b:\\PESU Labs\\Data Analytics\\lib\\site-packages\\sklearn\\utils\\validation.py:985: DataConversionWarning: A column-vector y was passed when a 1d array was expected. Please change the shape of y to (n_samples, ), for example using ravel().\n",
      "  y = column_or_1d(y, warn=True)\n",
      "b:\\PESU Labs\\Data Analytics\\lib\\site-packages\\sklearn\\svm\\_base.py:1206: ConvergenceWarning: Liblinear failed to converge, increase the number of iterations.\n",
      "  warnings.warn(\n",
      "b:\\PESU Labs\\Data Analytics\\lib\\site-packages\\sklearn\\svm\\_base.py:1206: ConvergenceWarning: Liblinear failed to converge, increase the number of iterations.\n",
      "  warnings.warn(\n",
      "C:\\Users\\likit\\AppData\\Local\\Temp/ipykernel_8052/3701300969.py:4: DataConversionWarning: A column-vector y was passed when a 1d array was expected. Please change the shape of y to (n_samples,), for example using ravel().\n",
      "  model.fit(train_X, train_y)\n",
      "C:\\Users\\likit\\AppData\\Local\\Temp/ipykernel_8052/3701300969.py:4: DataConversionWarning: A column-vector y was passed when a 1d array was expected. Please change the shape of y to (n_samples,), for example using ravel().\n",
      "  model.fit(train_X, train_y)\n",
      "C:\\Users\\likit\\AppData\\Local\\Temp/ipykernel_8052/3701300969.py:4: DataConversionWarning: A column-vector y was passed when a 1d array was expected. Please change the shape of y to (n_samples,), for example using ravel().\n",
      "  model.fit(train_X, train_y)\n",
      "C:\\Users\\likit\\AppData\\Local\\Temp/ipykernel_8052/3701300969.py:4: DataConversionWarning: A column-vector y was passed when a 1d array was expected. Please change the shape of y to (n_samples,), for example using ravel().\n",
      "  model.fit(train_X, train_y)\n"
     ]
    }
   ],
   "source": [
    "paths = ['../datasets/companies/BAJAJ-AUTO.csv', '../datasets/companies/BAJFINANCE.csv', '../datasets/companies/HDFCBANK.csv', '../datasets/companies/INFY.csv', '../datasets/companies/ITC.csv', '../datasets/companies/LICHSGFIN.csv', '../datasets/companies/PFIZER.csv', '../datasets/companies/RELIANCE.csv', '../datasets/companies/SBIN.csv', '../datasets/companies/TATAMOTORS.csv', '../datasets/companies/TCS.csv']\n",
    "company = [\"BAJAJ-AUTO\", \"BAJFINANCE\", \"HDFCBANK\", \"INFY\", \"ITC\", \"LICHSGFIN\", \"PFIZER\", \"RELIANCE\", \"SBIN\", \"TATAMOTORS\", \"TCS\"]\n",
    "\n",
    "modelSelection = []\n",
    "final = []\n",
    "\n",
    "for i in range(0, len(paths)):\n",
    "    \n",
    "    temp = []\n",
    "    \n",
    "    data = readData(paths[i])\n",
    "    \n",
    "    X_train,Y_train,X_test,Y_test = data_split(data, True)\n",
    "    \n",
    "    LR = LRModel(X_train, Y_train, X_test, Y_test)\n",
    "    SVR = SVRModel(X_train, Y_train['Close'].tolist(), X_test, Y_test['Close'].tolist())\n",
    "    DTR = DTRModel(X_train, Y_train, X_test, Y_test)\n",
    "    RF = RFModel(X_train, Y_train, X_test, Y_test)\n",
    "\n",
    "    temp.append(LR[1])\n",
    "    temp.append(SVR[1])\n",
    "    temp.append(DTR[1])\n",
    "    temp.append(RF[1])\n",
    "\n",
    "    x = temp.index(min(temp))\n",
    "    \n",
    "    alpha, beta = volatility(data, 0.05)\n",
    "\n",
    "    if(x == 0):\n",
    "        final.append([\"LR -\", temp[0]])\n",
    "        modelSelection.append([company[i], \"LR\", LRModelFinal(data), alpha, beta])\n",
    "    elif(x == 1):\n",
    "        final.append([\"SVR -\", temp[1]])\n",
    "        modelSelection.append([company[i], \"SVR\", SVRModelFinal(data, SVR[2]), alpha, beta])\n",
    "    elif(x == 2):\n",
    "        final.append([\"DTR -\", temp[2]])\n",
    "        modelSelection.append([company[i], \"DTR\", DTRModelFinal(data, DTR[2]), alpha, beta])\n",
    "    elif(x == 3):\n",
    "        final.append([\"RF -\", temp[3]])\n",
    "        modelSelection.append([company[i], \"RF\", RFModelFinal(data, RF[2]), alpha, beta])"
   ]
  },
  {
   "cell_type": "code",
   "execution_count": 111,
   "metadata": {},
   "outputs": [
    {
     "name": "stdout",
     "output_type": "stream",
     "text": [
      "SVR - 25.445225669768558\n",
      "LR - 36.82464782447261\n",
      "LR - 9.478288393263187\n",
      "LR - 5.564836521565366\n",
      "LR - 1.7184544462669864\n",
      "SVR - 4.0191283964126585\n",
      "LR - 49.6789191776902\n",
      "SVR - 11.08480422363284\n",
      "SVR - 2.7490419409695783\n",
      "SVR - 1.5447234693877834\n",
      "LR - 16.724998362287316\n"
     ]
    }
   ],
   "source": [
    "for i in final:\n",
    "    print(i[0], i[1])"
   ]
  },
  {
   "cell_type": "code",
   "execution_count": 112,
   "metadata": {},
   "outputs": [
    {
     "name": "stdout",
     "output_type": "stream",
     "text": [
      "['BAJAJ-AUTO', 'SVR', Pipeline(steps=[('Scaler', StandardScaler()), ('svr', LinearSVR(C=100.0))]), 1.0542303765536762, 3.5225380699309445]\n",
      "['BAJFINANCE', 'LR', LinearRegression(), 1.2067322958089777, 1.146650518819952]\n",
      "['HDFCBANK', 'LR', LinearRegression(), -0.2815356988119286, 0.4472519147578698]\n",
      "['INFY', 'LR', LinearRegression(), 1.8406469530639629, 4.237259362415296]\n",
      "['ITC', 'LR', LinearRegression(), 1.2118957419733487, 6.408574061906372]\n",
      "['LICHSGFIN', 'SVR', Pipeline(steps=[('Scaler', StandardScaler()), ('svr', LinearSVR(C=10.0))]), 0.7420716802462886, 4.325034575578774]\n",
      "['PFIZER', 'LR', LinearRegression(), 0.8641865790968715, 0.32211149738557027]\n",
      "['RELIANCE', 'SVR', Pipeline(steps=[('Scaler', StandardScaler()), ('svr', LinearSVR(C=100.0))]), 1.0144830960717595, 1.2409524767872928]\n",
      "['SBIN', 'SVR', Pipeline(steps=[('Scaler', StandardScaler()), ('svr', LinearSVR(C=100.0))]), 2.0591242026710783, 9.265440119793466]\n",
      "['TATAMOTORS', 'SVR', Pipeline(steps=[('Scaler', StandardScaler()), ('svr', LinearSVR(C=100.0))]), 4.943608969134059, 20.937229604239164]\n",
      "['TCS', 'LR', LinearRegression(), 1.1912125232373618, 2.9896354146855337]\n"
     ]
    }
   ],
   "source": [
    "for i in modelSelection:\n",
    "    print(i)"
   ]
  },
  {
   "cell_type": "code",
   "execution_count": 115,
   "metadata": {},
   "outputs": [
    {
     "data": {
      "text/plain": [
       "Text(0, 0.5, 'Relative risk compared to the market')"
      ]
     },
     "execution_count": 115,
     "metadata": {},
     "output_type": "execute_result"
    },
    {
     "data": {
      "image/png": "[encoded data removed]",
      "text/plain": [
       "<Figure size 1440x720 with 1 Axes>"
      ]
     },
     "metadata": {
      "needs_background": "light"
     },
     "output_type": "display_data"
    }
   ],
   "source": [
    "alpha = []\n",
    "beta = []\n",
    "\n",
    "for i in modelSelection:\n",
    "    alpha.append(i[3])\n",
    "    beta.append(i[4])\n",
    "\n",
    "plt.figure(figsize = (20, 10))\n",
    "plt.scatter(alpha, beta)\n",
    "for i in range(0, len(modelSelection)):\n",
    "    plt.annotate(modelSelection[i][0], (alpha[i], beta[i]))\n",
    "\n",
    "plt.xlabel(\"Returns compared to the market (in %)\")\n",
    "plt.ylabel(\"Relative risk compared to the market\")"
   ]
  }
 ],
 "metadata": {
  "interpreter": {
   "hash": "7f61d6da9619131ef9f07f3a4730f148a6e159ea0eb0165f31ac9597d9dc1706"
  },
  "kernelspec": {
   "display_name": "Python 3.9.5 64-bit ('Data Analytics': venv)",
   "language": "python",
   "name": "python3"
  },
  "language_info": {
   "codemirror_mode": {
    "name": "ipython",
    "version": 3
   },
   "file_extension": ".py",
   "mimetype": "text/x-python",
   "name": "python",
   "nbconvert_exporter": "python",
   "pygments_lexer": "ipython3",
   "version": "3.9.5"
  },
  "orig_nbformat": 4
 },
 "nbformat": 4,
 "nbformat_minor": 2
}
