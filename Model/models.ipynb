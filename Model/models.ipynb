{
 "cells": [
  {
   "cell_type": "code",
   "execution_count": 6,
   "metadata": {},
   "outputs": [],
   "source": [
    "import pandas as pd\n",
    "from pandas import Series as Series\n",
    "import numpy as np\n",
    "import matplotlib.pyplot as plt\n",
    "from sklearn.linear_model import LinearRegression\n",
    "from sklearn import metrics\n",
    "from math import sqrt\n"
   ]
  },
  {
   "cell_type": "code",
   "execution_count": 2,
   "metadata": {},
   "outputs": [],
   "source": [
    "def data_split(data):\n",
    "    data_copy = data.copy()\n",
    "    data_copy = data_copy.sort_values('Date')\n",
    "    data_copy.set_index('Date',inplace=True)\n",
    "    data_copy.dropna(inplace=True)\n",
    "    \n",
    "    num_data = data_copy.shape[0]\n",
    "    split_val = int(num_data*0.8)                       # 80:20\n",
    "    train_data = data_copy[:split_val]\n",
    "    test_data = data_copy[split_val:]\n",
    "\n",
    "    X_train = train_data[['Open','High','Low','Close','Volume','Turnover']]\n",
    "    Y_train = train_data[['Close']]\n",
    "\n",
    "    X_test = test_data[['Open','High','Low','Close','Volume','Turnover']]\n",
    "    Y_test = test_data[['Close']]\n",
    "\n",
    "    return X_train,Y_train,X_test,Y_test\n",
    "    "
   ]
  },
  {
   "cell_type": "code",
   "execution_count": 3,
   "metadata": {},
   "outputs": [],
   "source": [
    "data = pd.read_csv('../datasets/inidices/NIFTY 50.csv')\n"
   ]
  },
  {
   "cell_type": "code",
   "execution_count": 5,
   "metadata": {},
   "outputs": [],
   "source": [
    "Xtrain, Ytrain, Xtest, Ytest = data_split(data)"
   ]
  },
  {
   "cell_type": "code",
   "execution_count": 12,
   "metadata": {},
   "outputs": [],
   "source": [
    "def LRModel(Xtrain, Ytrain, Xtest, Ytest):\n",
    "\n",
    "    Regressor = LinearRegression()\n",
    "    model = Regressor.fit(Xtrain, Ytrain)\n",
    "    predictedLR = Regressor.predict(Xtest)\n",
    "    print(sqrt(metrics.mean_squared_error(Ytest, predictedLR)))\n",
    "    predictedLR = model.predict(Xtest)\n",
    "    print(sqrt(metrics.mean_squared_error(Ytest, predictedLR)))"
   ]
  }
 ],
 "metadata": {
  "interpreter": {
   "hash": "d561c1bf2e6851bd79211bead0d24080a821613026c569880630f742ae255c4b"
  },
  "kernelspec": {
   "display_name": "Python 3.9.5 64-bit",
   "language": "python",
   "name": "python3"
  },
  "language_info": {
   "codemirror_mode": {
    "name": "ipython",
    "version": 3
   },
   "file_extension": ".py",
   "mimetype": "text/x-python",
   "name": "python",
   "nbconvert_exporter": "python",
   "pygments_lexer": "ipython3",
   "version": "3.9.5"
  },
  "orig_nbformat": 4
 },
 "nbformat": 4,
 "nbformat_minor": 2
}
