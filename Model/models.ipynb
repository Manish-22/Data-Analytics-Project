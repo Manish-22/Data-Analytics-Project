{
 "cells": [
  {
   "cell_type": "code",
   "execution_count": 1,
   "metadata": {},
   "outputs": [],
   "source": [
    "import pandas as pd\n",
    "import numpy as np\n",
    "import matplotlib.pyplot as plt\n",
    "from sklearn.linear_model import LinearRegression\n",
    "from sklearn.svm import LinearSVR\n",
    "from sklearn import metrics\n",
    "from sklearn.preprocessing import StandardScaler\n",
    "from sklearn.pipeline import Pipeline\n",
    "from math import sqrt"
   ]
  },
  {
   "cell_type": "code",
   "execution_count": 2,
   "metadata": {},
   "outputs": [],
   "source": [
    "def data_split(data, all = False):\n",
    "\n",
    "    data_copy = data.copy()\n",
    "    \n",
    "    if(all == False):            \n",
    "        train_data = data_copy[:-365]\n",
    "        test_data = data_copy[-365:]\n",
    "    else:\n",
    "        num_data = data_copy.shape[0]\n",
    "        split_val = int(num_data*0.8)\n",
    "        train_data = data_copy[:split_val]\n",
    "        test_data = data_copy[split_val:]\n",
    "\n",
    "    X_train = train_data[['Open','High','Low','Volume','Turnover']]\n",
    "    Y_train = train_data[['Close']]\n",
    "\n",
    "    X_test = test_data[['Open','High','Low','Volume','Turnover']]\n",
    "    Y_test = test_data[['Close']]\n",
    "\n",
    "    return X_train,Y_train,X_test,Y_test\n",
    "    "
   ]
  },
  {
   "cell_type": "code",
   "execution_count": 3,
   "metadata": {},
   "outputs": [],
   "source": [
    "def readData(path):\n",
    "    data = pd.read_csv(path , )\n",
    "    data['Date'] = pd.to_datetime(data['Date'])\n",
    "    data.set_index('Date', inplace = True)\n",
    "    data = data.loc['2012-03-01': '2021-01-07']\n",
    "    data.dropna(inplace = True)\n",
    "    return data"
   ]
  },
  {
   "cell_type": "code",
   "execution_count": 4,
   "metadata": {},
   "outputs": [],
   "source": [
    "def volatility(data, Rf):\n",
    "    \n",
    "    Nifty = readData('../datasets/inidices/NIFTY 50.csv')\n",
    "    Nifty = Nifty.loc['2019-1-1':'2021-1-1']\n",
    "\n",
    "    data = data.loc['2019-1-1':'2021-1-1']\n",
    "\n",
    "    beta = np.cov(Nifty['Close'], data['Close'])[0][1]/data['Close'].var()\n",
    "\n",
    "    alpha = (data['Close'][-1] - data['Close'][0])/data['Close'][0] - Rf + beta * ((Nifty['Close'][-1] - Nifty['Close'][0])/Nifty['Close'][0] - Rf)\n",
    "\n",
    "    print(alpha * 100, beta)"
   ]
  },
  {
   "cell_type": "code",
   "execution_count": 8,
   "metadata": {},
   "outputs": [],
   "source": [
    "def SVRModel(Xtrain, Ytrain, Xtest, Ytest):\n",
    "    \n",
    "    PipelineObject = Pipeline([('Scaler', StandardScaler()), ('svr', LinearSVR())])\n",
    "    PipelineObject.fit(Xtrain,Ytrain)\n",
    "    predictedSVR = PipelineObject.predict(Xtest)\n",
    "    \n",
    "    return (PipelineObject, sqrt(metrics.mean_squared_error(Ytest, predictedSVR)))"
   ]
  },
  {
   "cell_type": "code",
   "execution_count": 9,
   "metadata": {},
   "outputs": [],
   "source": [
    "def LRModel(Xtrain, Ytrain, Xtest, Ytest):\n",
    "\n",
    "    Regressor = LinearRegression()\n",
    "    model = Regressor.fit(Xtrain, Ytrain)\n",
    "    predictedLR = Regressor.predict(Xtest)\n",
    "    \n",
    "    return (model, sqrt(metrics.mean_squared_error(Ytest, predictedLR)))"
   ]
  },
  {
   "cell_type": "code",
   "execution_count": 5,
   "metadata": {},
   "outputs": [],
   "source": [
    "data = readData('../datasets/companies/LICHSGFIN.csv')"
   ]
  },
  {
   "cell_type": "code",
   "execution_count": 6,
   "metadata": {},
   "outputs": [],
   "source": [
    "X_train,Y_train,X_test,Y_test = data_split(data, True)"
   ]
  },
  {
   "cell_type": "code",
   "execution_count": 7,
   "metadata": {},
   "outputs": [
    {
     "name": "stdout",
     "output_type": "stream",
     "text": [
      "58.232064297892514 4.325034575578774\n"
     ]
    }
   ],
   "source": [
    "volatility(data, 0.08)"
   ]
  },
  {
   "cell_type": "code",
   "execution_count": 10,
   "metadata": {},
   "outputs": [
    {
     "data": {
      "text/plain": [
       "(LinearRegression(), 4.0421137932426365)"
      ]
     },
     "execution_count": 10,
     "metadata": {},
     "output_type": "execute_result"
    }
   ],
   "source": [
    "LRModel(X_train, Y_train, X_test, Y_test)"
   ]
  },
  {
   "cell_type": "code",
   "execution_count": 11,
   "metadata": {},
   "outputs": [
    {
     "data": {
      "text/plain": [
       "(Pipeline(steps=[('Scaler', StandardScaler()), ('svr', LinearSVR())]),\n",
       " 6.033771591164614)"
      ]
     },
     "execution_count": 11,
     "metadata": {},
     "output_type": "execute_result"
    }
   ],
   "source": [
    "SVRModel(X_train, Y_train['Close'].tolist(), X_test, Y_test['Close'].tolist())"
   ]
  }
 ],
 "metadata": {
  "interpreter": {
   "hash": "7f61d6da9619131ef9f07f3a4730f148a6e159ea0eb0165f31ac9597d9dc1706"
  },
  "kernelspec": {
   "display_name": "Python 3.9.5 64-bit ('Data Analytics': venv)",
   "language": "python",
   "name": "python3"
  },
  "language_info": {
   "codemirror_mode": {
    "name": "ipython",
    "version": 3
   },
   "file_extension": ".py",
   "mimetype": "text/x-python",
   "name": "python",
   "nbconvert_exporter": "python",
   "pygments_lexer": "ipython3",
   "version": "3.9.5"
  },
  "orig_nbformat": 4
 },
 "nbformat": 4,
 "nbformat_minor": 2
}
