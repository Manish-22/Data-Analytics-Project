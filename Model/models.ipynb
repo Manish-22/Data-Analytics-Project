{
 "cells": [
  {
   "cell_type": "code",
   "execution_count": 2,
   "metadata": {},
   "outputs": [],
   "source": [
    "import pandas as pd\n",
    "import numpy as np\n",
    "import matplotlib.pyplot as plt"
   ]
  },
  {
   "cell_type": "code",
   "execution_count": 3,
   "metadata": {},
   "outputs": [],
   "source": [
    "def data_split(data):\n",
    "    data_copy = data.copy()\n",
    "    \n",
    "    num_data = data_copy.shape[0]\n",
    "    split_val = int(num_data*0.8)                       # 80:20\n",
    "    train_data = data_copy[:split_val]\n",
    "    test_data = data_copy[split_val:]\n",
    "\n",
    "    X_train = train_data[['Open','High','Low','Volume','Turnover']]\n",
    "    Y_train = train_data[['Close']]\n",
    "\n",
    "    X_test = test_data[['Open','High','Low','Volume','Turnover']]\n",
    "    Y_test = test_data[['Close']]\n",
    "\n",
    "    return X_train,Y_train,X_test,Y_test"
   ]
  },
  {
   "cell_type": "code",
   "execution_count": 4,
   "metadata": {},
   "outputs": [],
   "source": [
    "def readData(path):\n",
    "    data = pd.read_csv(path , )\n",
    "    data['Date'] = pd.to_datetime(data['Date'])\n",
    "    data.set_index('Date', inplace = True)\n",
    "    data.dropna(inplace = True)\n",
    "    return data"
   ]
  },
  {
   "cell_type": "code",
   "execution_count": 5,
   "metadata": {},
   "outputs": [],
   "source": [
    "def volatility(data, Rf):\n",
    "    \n",
    "    Nifty = readData('../datasets/inidices/NIFTY 50.csv')\n",
    "    Nifty = Nifty.loc['2019-1-1':'2021-1-1']\n",
    "\n",
    "    data = data.loc['2019-1-1':'2021-1-1']\n",
    "\n",
    "    beta = np.cov(Nifty['Close'], data['Close'])[0][1]/data['Close'].var()\n",
    "\n",
    "    alpha = (data['Close'][-1] - data['Close'][0])/data['Close'][0] - Rf + beta * ((Nifty['Close'][-1] - Nifty['Close'][0])/Nifty['Close'][0] - Rf)\n",
    "\n",
    "    print(alpha * 100, beta)"
   ]
  },
  {
   "cell_type": "code",
   "execution_count": 6,
   "metadata": {},
   "outputs": [],
   "source": [
    "data = readData('../datasets/companies/LICHSGFIN.csv')\n",
    "X_train,Y_train,X_test,Y_test = data_split(data)"
   ]
  },
  {
   "cell_type": "code",
   "execution_count": 7,
   "metadata": {},
   "outputs": [
    {
     "name": "stdout",
     "output_type": "stream",
     "text": [
      "58.232064297892514 4.325034575578774\n"
     ]
    }
   ],
   "source": [
    "volatility(data, 0.08)"
   ]
  },
  {
   "cell_type": "code",
   "execution_count": 13,
   "metadata": {},
   "outputs": [],
   "source": [
    "def preprocess(data):\n",
    "    start_date = \"2012-03-01\"\n",
    "    end_date = \"2021-01-07\"\n",
    "    df=data.loc[start_date:end_date]\n",
    "\n",
    "    df = df[[\"Open\", \"High\", \"Low\", \"Close\", \"Volume\", \"Turnover\"]]\n",
    "    df.dropna()\n",
    "    return df"
   ]
  },
  {
   "cell_type": "code",
   "execution_count": 15,
   "metadata": {},
   "outputs": [
    {
     "data": {
      "text/html": [
       "<div>\n",
       "<style scoped>\n",
       "    .dataframe tbody tr th:only-of-type {\n",
       "        vertical-align: middle;\n",
       "    }\n",
       "\n",
       "    .dataframe tbody tr th {\n",
       "        vertical-align: top;\n",
       "    }\n",
       "\n",
       "    .dataframe thead th {\n",
       "        text-align: right;\n",
       "    }\n",
       "</style>\n",
       "<table border=\"1\" class=\"dataframe\">\n",
       "  <thead>\n",
       "    <tr style=\"text-align: right;\">\n",
       "      <th></th>\n",
       "      <th>Open</th>\n",
       "      <th>High</th>\n",
       "      <th>Low</th>\n",
       "      <th>Close</th>\n",
       "      <th>Volume</th>\n",
       "      <th>Turnover</th>\n",
       "    </tr>\n",
       "    <tr>\n",
       "      <th>Date</th>\n",
       "      <th></th>\n",
       "      <th></th>\n",
       "      <th></th>\n",
       "      <th></th>\n",
       "      <th></th>\n",
       "      <th></th>\n",
       "    </tr>\n",
       "  </thead>\n",
       "  <tbody>\n",
       "    <tr>\n",
       "      <th>2012-02-01</th>\n",
       "      <td>222.05</td>\n",
       "      <td>224.0</td>\n",
       "      <td>214.10</td>\n",
       "      <td>218.00</td>\n",
       "      <td>2135911</td>\n",
       "      <td>4.645520e+13</td>\n",
       "    </tr>\n",
       "    <tr>\n",
       "      <th>2012-03-01</th>\n",
       "      <td>219.70</td>\n",
       "      <td>228.0</td>\n",
       "      <td>219.00</td>\n",
       "      <td>226.90</td>\n",
       "      <td>1738685</td>\n",
       "      <td>3.920190e+13</td>\n",
       "    </tr>\n",
       "    <tr>\n",
       "      <th>2012-04-01</th>\n",
       "      <td>229.90</td>\n",
       "      <td>230.0</td>\n",
       "      <td>223.90</td>\n",
       "      <td>226.10</td>\n",
       "      <td>1483065</td>\n",
       "      <td>3.360090e+13</td>\n",
       "    </tr>\n",
       "    <tr>\n",
       "      <th>2012-05-01</th>\n",
       "      <td>226.10</td>\n",
       "      <td>229.0</td>\n",
       "      <td>225.50</td>\n",
       "      <td>227.65</td>\n",
       "      <td>1083121</td>\n",
       "      <td>2.464430e+13</td>\n",
       "    </tr>\n",
       "    <tr>\n",
       "      <th>2012-06-01</th>\n",
       "      <td>226.00</td>\n",
       "      <td>227.0</td>\n",
       "      <td>221.50</td>\n",
       "      <td>225.25</td>\n",
       "      <td>1293012</td>\n",
       "      <td>2.904370e+13</td>\n",
       "    </tr>\n",
       "    <tr>\n",
       "      <th>...</th>\n",
       "      <td>...</td>\n",
       "      <td>...</td>\n",
       "      <td>...</td>\n",
       "      <td>...</td>\n",
       "      <td>...</td>\n",
       "      <td>...</td>\n",
       "    </tr>\n",
       "    <tr>\n",
       "      <th>2021-01-02</th>\n",
       "      <td>401.60</td>\n",
       "      <td>449.0</td>\n",
       "      <td>392.50</td>\n",
       "      <td>432.90</td>\n",
       "      <td>13821161</td>\n",
       "      <td>5.773800e+14</td>\n",
       "    </tr>\n",
       "    <tr>\n",
       "      <th>2021-01-03</th>\n",
       "      <td>435.00</td>\n",
       "      <td>437.4</td>\n",
       "      <td>428.00</td>\n",
       "      <td>433.20</td>\n",
       "      <td>3331413</td>\n",
       "      <td>1.442190e+14</td>\n",
       "    </tr>\n",
       "    <tr>\n",
       "      <th>2021-01-04</th>\n",
       "      <td>431.75</td>\n",
       "      <td>433.9</td>\n",
       "      <td>424.00</td>\n",
       "      <td>432.85</td>\n",
       "      <td>2815660</td>\n",
       "      <td>1.209170e+14</td>\n",
       "    </tr>\n",
       "    <tr>\n",
       "      <th>2021-01-06</th>\n",
       "      <td>470.95</td>\n",
       "      <td>479.0</td>\n",
       "      <td>466.55</td>\n",
       "      <td>477.60</td>\n",
       "      <td>5008157</td>\n",
       "      <td>2.372650e+14</td>\n",
       "    </tr>\n",
       "    <tr>\n",
       "      <th>2021-01-07</th>\n",
       "      <td>470.70</td>\n",
       "      <td>475.3</td>\n",
       "      <td>468.70</td>\n",
       "      <td>470.25</td>\n",
       "      <td>1832833</td>\n",
       "      <td>8.653700e+13</td>\n",
       "    </tr>\n",
       "  </tbody>\n",
       "</table>\n",
       "<p>2236 rows × 6 columns</p>\n",
       "</div>"
      ],
      "text/plain": [
       "              Open   High     Low   Close    Volume      Turnover\n",
       "Date                                                             \n",
       "2012-02-01  222.05  224.0  214.10  218.00   2135911  4.645520e+13\n",
       "2012-03-01  219.70  228.0  219.00  226.90   1738685  3.920190e+13\n",
       "2012-04-01  229.90  230.0  223.90  226.10   1483065  3.360090e+13\n",
       "2012-05-01  226.10  229.0  225.50  227.65   1083121  2.464430e+13\n",
       "2012-06-01  226.00  227.0  221.50  225.25   1293012  2.904370e+13\n",
       "...            ...    ...     ...     ...       ...           ...\n",
       "2021-01-02  401.60  449.0  392.50  432.90  13821161  5.773800e+14\n",
       "2021-01-03  435.00  437.4  428.00  433.20   3331413  1.442190e+14\n",
       "2021-01-04  431.75  433.9  424.00  432.85   2815660  1.209170e+14\n",
       "2021-01-06  470.95  479.0  466.55  477.60   5008157  2.372650e+14\n",
       "2021-01-07  470.70  475.3  468.70  470.25   1832833  8.653700e+13\n",
       "\n",
       "[2236 rows x 6 columns]"
      ]
     },
     "execution_count": 15,
     "metadata": {},
     "output_type": "execute_result"
    }
   ],
   "source": [
    "data = readData('../datasets/companies/LICHSGFIN.csv')\n",
    "data = data.loc[]\n",
    "df = preprocess(data)\n",
    "df"
   ]
  },
  {
   "cell_type": "code",
   "execution_count": null,
   "metadata": {},
   "outputs": [],
   "source": []
  }
 ],
 "metadata": {
  "interpreter": {
   "hash": "7f61d6da9619131ef9f07f3a4730f148a6e159ea0eb0165f31ac9597d9dc1706"
  },
  "kernelspec": {
   "display_name": "Python 3.9.5 64-bit ('Data Analytics': venv)",
   "language": "python",
   "name": "python3"
  },
  "language_info": {
   "codemirror_mode": {
    "name": "ipython",
    "version": 3
   },
   "file_extension": ".py",
   "mimetype": "text/x-python",
   "name": "python",
   "nbconvert_exporter": "python",
   "pygments_lexer": "ipython3",
   "version": "3.9.5"
  },
  "orig_nbformat": 4
 },
 "nbformat": 4,
 "nbformat_minor": 2
}
