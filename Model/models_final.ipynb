{
 "cells": [
  {
   "cell_type": "code",
   "execution_count": 1,
   "metadata": {},
   "outputs": [],
   "source": [
    "import pandas as pd\n",
    "import numpy as np\n",
    "import matplotlib.pyplot as plt\n",
    "from sklearn.linear_model import LinearRegression\n",
    "from sklearn.svm import LinearSVR\n",
    "from sklearn import metrics\n",
    "from sklearn.preprocessing import StandardScaler\n",
    "from sklearn.pipeline import Pipeline\n",
    "from sklearn.tree import DecisionTreeRegressor\n",
    "from sklearn.ensemble import RandomForestRegressor\n",
    "from statsmodels.tsa.stattools import adfuller, acf, pacf, arma_order_select_ic\n",
    "import pmdarima as pm\n",
    "from pmdarima.arima.utils import ndiffs\n",
    "\n",
    "import statsmodels.api as sm\n",
    "\n",
    "from math import sqrt"
   ]
  },
  {
   "cell_type": "markdown",
   "metadata": {},
   "source": [
    "### Data Cleaning and Trimming Data \n",
    "- for uniformity"
   ]
  },
  {
   "cell_type": "code",
   "execution_count": 2,
   "metadata": {},
   "outputs": [],
   "source": [
    "def data_split(data, all = False):\n",
    "\n",
    "    data_copy = data.copy()\n",
    "    \n",
    "    if(all == False):            \n",
    "        train_data = data_copy[:-365]\n",
    "        test_data = data_copy[-365:]\n",
    "    else:\n",
    "        num_data = data_copy.shape[0]\n",
    "        split_val = int(num_data*0.8)\n",
    "        train_data = data_copy[:split_val]\n",
    "        test_data = data_copy[split_val:]\n",
    "\n",
    "    X_train = train_data[['Open','High','Low','Volume','Turnover']]\n",
    "    Y_train = train_data[['Close']]\n",
    "\n",
    "    X_test = test_data[['Open','High','Low','Volume','Turnover']]\n",
    "    Y_test = test_data[['Close']]\n",
    "\n",
    "    return X_train,Y_train,X_test,Y_test\n",
    "    "
   ]
  },
  {
   "cell_type": "code",
   "execution_count": 3,
   "metadata": {},
   "outputs": [],
   "source": [
    "def readData(path):\n",
    "    data = pd.read_csv(path, index_col='Date', parse_dates=True, dayfirst=True)\n",
    "    data = data.loc['2012-03-01': '2021-01-07']\n",
    "    data.dropna(inplace = True)\n",
    "    return data"
   ]
  },
  {
   "cell_type": "markdown",
   "metadata": {},
   "source": [
    "### Analysis of Risk Vs Return"
   ]
  },
  {
   "cell_type": "code",
   "execution_count": 4,
   "metadata": {},
   "outputs": [],
   "source": [
    "def volatility(data, Rf):\n",
    "    \n",
    "    Nifty = readData('../datasets/indices/NIFTY 50.csv')\n",
    "    Nifty = Nifty.loc['2019-1-1':'2021-1-1']\n",
    "\n",
    "    data = data.loc['2019-1-1':'2021-1-1']\n",
    "\n",
    "    beta = np.cov(Nifty['Close'], data['Close'])[0][1]/data['Close'].var()\n",
    "\n",
    "    alpha = (data['Close'][-1] - data['Close'][0])/data['Close'][0] - Rf + beta * ((Nifty['Close'][-1] - Nifty['Close'][0])/Nifty['Close'][0] - Rf)\n",
    "\n",
    "    return (alpha, beta)"
   ]
  },
  {
   "cell_type": "markdown",
   "metadata": {},
   "source": [
    "### Support Vector Regression"
   ]
  },
  {
   "cell_type": "code",
   "execution_count": 5,
   "metadata": {},
   "outputs": [],
   "source": [
    "def SVRModel(Xtrain, Ytrain, Xtest, Ytest):\n",
    "    \n",
    "    i = 0.0001\n",
    "    temp = []\n",
    "\n",
    "    while(i <= 100):\n",
    "        \n",
    "        PipelineObject = Pipeline([('Scaler', StandardScaler()), ('svr', LinearSVR(C = i))])\n",
    "        PipelineObject.fit(Xtrain,Ytrain)\n",
    "        predictedSVR = PipelineObject.predict(Xtest)\n",
    "        temp.append([PipelineObject, sqrt(metrics.mean_squared_error(Ytest, predictedSVR)), i])\n",
    "        i = i * 10\n",
    "    \n",
    "    return (min(temp, key = lambda x: x[1]))"
   ]
  },
  {
   "cell_type": "code",
   "execution_count": 6,
   "metadata": {},
   "outputs": [],
   "source": [
    "def SVRModelFinal(data, c):\n",
    "\n",
    "    PipelineObject = Pipeline([('Scaler', StandardScaler()), ('svr', LinearSVR(C = c))])\n",
    "    Xtrain = data[['Open','High','Low','Volume','Turnover']]\n",
    "    Ytrain = data[['Close']]\n",
    "    PipelineObject.fit(Xtrain,Ytrain)\n",
    "\n",
    "    return PipelineObject"
   ]
  },
  {
   "cell_type": "markdown",
   "metadata": {},
   "source": [
    "### Linear Regression"
   ]
  },
  {
   "cell_type": "code",
   "execution_count": 7,
   "metadata": {},
   "outputs": [],
   "source": [
    "def LRModel(Xtrain, Ytrain, Xtest, Ytest):\n",
    "    \n",
    "    Regressor = LinearRegression()\n",
    "    model = Regressor.fit(Xtrain, Ytrain)\n",
    "    predictedLR = Regressor.predict(Xtest)\n",
    "    \n",
    "    return (model, sqrt(metrics.mean_squared_error(Ytest, predictedLR)))"
   ]
  },
  {
   "cell_type": "code",
   "execution_count": 8,
   "metadata": {},
   "outputs": [],
   "source": [
    "def LRModelFinal(data):\n",
    "\n",
    "    Regressor = LinearRegression()\n",
    "    Xtrain = data[['Open','High','Low','Volume','Turnover']]\n",
    "    Ytrain = data[['Close']]\n",
    "    model = Regressor.fit(Xtrain, Ytrain['Close'].tolist())\n",
    "    \n",
    "    return model"
   ]
  },
  {
   "cell_type": "markdown",
   "metadata": {},
   "source": [
    "### Decision Tree Regression"
   ]
  },
  {
   "cell_type": "code",
   "execution_count": 9,
   "metadata": {},
   "outputs": [],
   "source": [
    "def DTRModel(Xtrain, Ytrain, Xtest, Ytest):\n",
    "\n",
    "    min_rmse = -1\n",
    "    min_model = None\n",
    "    min_maxleaf =None\n",
    "    \n",
    "    for max_leaf_nodes in [5, 50, 500, 5000]:\n",
    "    \n",
    "        my_model,my_rmse = DTRGetRMSE(max_leaf_nodes, Xtrain, Xtest, Ytrain, Ytest)\n",
    "    \n",
    "        if min_rmse==-1 or min_rmse>my_rmse:\n",
    "            min_rmse=my_rmse\n",
    "            min_model = my_model\n",
    "            min_maxleaf = max_leaf_nodes\n",
    "    \n",
    "    return (min_model,min_rmse,min_maxleaf)"
   ]
  },
  {
   "cell_type": "code",
   "execution_count": 10,
   "metadata": {},
   "outputs": [],
   "source": [
    "def DTRModelFinal(data,c_max_leaf_nodes):\n",
    "\n",
    "    Regressor = DecisionTreeRegressor(max_leaf_nodes=c_max_leaf_nodes)\n",
    "    Xtrain = data[['Open','High','Low','Volume','Turnover']]\n",
    "    Ytrain = data[['Close']]\n",
    "    model = Regressor.fit(Xtrain, Ytrain['Close'].tolist())\n",
    "    \n",
    "    return model"
   ]
  },
  {
   "cell_type": "code",
   "execution_count": 11,
   "metadata": {},
   "outputs": [],
   "source": [
    "def DTRGetRMSE(max_leaf_nodes, train_X, val_X, train_y, val_y):\n",
    "    model = DecisionTreeRegressor(max_leaf_nodes=max_leaf_nodes, random_state=0)\n",
    "    model.fit(train_X, train_y)\n",
    "    preds_val = model.predict(val_X)\n",
    "    rmse = sqrt(metrics.mean_squared_error(val_y, preds_val))\n",
    "    return model,rmse"
   ]
  },
  {
   "cell_type": "markdown",
   "metadata": {},
   "source": [
    "### Random Forest Regression"
   ]
  },
  {
   "cell_type": "code",
   "execution_count": 12,
   "metadata": {},
   "outputs": [],
   "source": [
    "def RFModel(Xtrain, Ytrain, Xtest, Ytest):\n",
    "\n",
    "    min_rmse = -1\n",
    "    min_model = None\n",
    "    min_maxleaf =None\n",
    "    \n",
    "    for max_leaf_nodes in [5, 50, 500, 5000]:\n",
    "    \n",
    "        my_model,my_rmse = RFGetRMSE(max_leaf_nodes, Xtrain, Xtest, Ytrain, Ytest)\n",
    "    \n",
    "        if min_rmse==-1 or min_rmse>my_rmse:\n",
    "    \n",
    "            min_rmse=my_rmse\n",
    "            min_model = my_model\n",
    "            min_maxleaf = max_leaf_nodes\n",
    "    \n",
    "    return min_model,min_rmse,min_maxleaf"
   ]
  },
  {
   "cell_type": "code",
   "execution_count": 13,
   "metadata": {},
   "outputs": [],
   "source": [
    "def RFGetRMSE(max_leaf_nodes, train_X, val_X, train_y, val_y):\n",
    "    \n",
    "    model = RandomForestRegressor(max_leaf_nodes=max_leaf_nodes, random_state=0)\n",
    "    model.fit(train_X, train_y)\n",
    "    preds_val = model.predict(val_X)\n",
    "    rmse = sqrt(metrics.mean_squared_error(val_y, preds_val))\n",
    "    \n",
    "    return model,rmse"
   ]
  },
  {
   "cell_type": "code",
   "execution_count": 14,
   "metadata": {},
   "outputs": [],
   "source": [
    "def RFModelFinal(data,c_max_leaf_nodes):\n",
    "\n",
    "    Regressor = RandomForestRegressor(max_leaf_nodes=c_max_leaf_nodes)\n",
    "    Xtrain = data[['Open','High','Low','Volume','Turnover']]\n",
    "    Ytrain = data[['Close']]\n",
    "    model = Regressor.fit(Xtrain, Ytrain['Close'].tolist())\n",
    "    \n",
    "    return model"
   ]
  },
  {
   "cell_type": "markdown",
   "metadata": {},
   "source": [
    "# Forecasting Using Time-Series Models </br> * SARIMAX </br>* SARIMA"
   ]
  },
  {
   "cell_type": "markdown",
   "metadata": {},
   "source": [
    "### SARIMAX Model To Predict Hyperparameters"
   ]
  },
  {
   "cell_type": "code",
   "execution_count": 15,
   "metadata": {},
   "outputs": [],
   "source": [
    "def test_stationarity(timeseries):\n",
    "    pval=-1\n",
    "    #Perform Dickey-Fuller test:\n",
    "    #print('Results of Dickey-Fuller Test:')\n",
    "    dftest = adfuller(timeseries, autolag='AIC')\n",
    "    dfoutput = pd.Series(dftest[0:4], index=['Test Statistic','p-value','#Lags Used','Number of Observations Used'])\n",
    "    for key,value in dftest[4].items():\n",
    "        dfoutput['Critical Value (%s)'%key] = value\n",
    "    # print (dfoutput)\n",
    "    return dfoutput[\"p-value\"]"
   ]
  },
  {
   "cell_type": "code",
   "execution_count": 16,
   "metadata": {},
   "outputs": [],
   "source": [
    "def SMXModel(X_train,Y_train,X_test,Y_test):\n",
    "\n",
    "    pval = test_stationarity(Y_train)\n",
    "    print('\\n\\n')\n",
    "\n",
    "    if pval<=0.05:\n",
    "        # print(\"Going without any de-trending/differencing\")\n",
    "        \n",
    "        sxmodel = pm.auto_arima(Y_train,exogenous = X_train,\n",
    "                           start_p=1, start_q=0,\n",
    "                           test='adf',\n",
    "                           max_p=2, max_q=2, m=16,\n",
    "                           start_P=0,\n",
    "                           d=None, D=0, trace=True,\n",
    "                           error_action='ignore',  \n",
    "                           suppress_warnings=True, \n",
    "                           stepwise=True,n_jobs = -1,\n",
    "                           random = True)\n",
    "\n",
    "        sxmodel.summary()\n",
    "\n",
    "        \n",
    "\n",
    "    else:\n",
    "        num_diff = ndiffs(Y_train.values, test='adf')\n",
    "        # print(\"Needs de-trending/differencing :\",num_diff)\n",
    "\n",
    "        sxmodel = pm.auto_arima(Y_train,exogenous = X_train,\n",
    "                           start_p=1, start_q=0,\n",
    "                           test='adf',\n",
    "                           max_p=2, max_q=2, m=16,\n",
    "                           start_P=0,\n",
    "                           d=None, D=num_diff, trace=True,\n",
    "                           error_action='ignore',  \n",
    "                           suppress_warnings=True, \n",
    "                           stepwise=True,n_jobs = -1,\n",
    "                           random = True)\n",
    "\n",
    "        sxmodel.summary()\n",
    "\n",
    "    # print(\"\\n\\n HERE\")\n",
    "    yPredS = sxmodel.predict(n_periods = len(Y_test), exogenous = X_test)\n",
    "\n",
    "    rmse = sqrt(metrics.mean_squared_error(Y_test, yPredS ))\n",
    "    # print(\"The root mean squared error is {}.\".format(rmse))\n",
    "        \n",
    "    return sxmodel,rmse,sxmodel.order,sxmodel.seasonal_order"
   ]
  },
  {
   "cell_type": "markdown",
   "metadata": {},
   "source": [
    "### SARIMA Model for Forecasting which we'll use in Alpha-Beta Analysis for Companies with their Index "
   ]
  },
  {
   "cell_type": "code",
   "execution_count": 17,
   "metadata": {},
   "outputs": [],
   "source": [
    "def Just_Sarima_Final(data,c_order,c_seasonal_order):\n",
    "    Ytrain = data[['Close']]\n",
    "    model = sm.tsa.statespace.SARIMAX(Ytrain, order=c_order,seasonal_order=c_seasonal_order)\n",
    "\n",
    "    results = model.fit(disp=False)\n",
    "    return results"
   ]
  },
  {
   "cell_type": "code",
   "execution_count": 18,
   "metadata": {},
   "outputs": [],
   "source": [
    "data = readData('../datasets/companies/LICHSGFIN.csv')"
   ]
  },
  {
   "cell_type": "code",
   "execution_count": 19,
   "metadata": {},
   "outputs": [],
   "source": [
    "X_train,Y_train,X_test,Y_test = data_split(data, True)"
   ]
  },
  {
   "cell_type": "markdown",
   "metadata": {},
   "source": [
    "### Company-wise BruteForce Model Selection\n",
    "- critrea RMSE"
   ]
  },
  {
   "cell_type": "code",
   "execution_count": 20,
   "metadata": {},
   "outputs": [
    {
     "name": "stderr",
     "output_type": "stream",
     "text": [
      "C:\\Users\\gaura\\AppData\\Local\\Programs\\Python\\Python39\\lib\\site-packages\\sklearn\\svm\\_base.py:1199: ConvergenceWarning: Liblinear failed to converge, increase the number of iterations.\n",
      "  warnings.warn(\n",
      "<ipython-input-13-65a138d92790>:4: DataConversionWarning: A column-vector y was passed when a 1d array was expected. Please change the shape of y to (n_samples,), for example using ravel().\n",
      "  model.fit(train_X, train_y)\n",
      "<ipython-input-13-65a138d92790>:4: DataConversionWarning: A column-vector y was passed when a 1d array was expected. Please change the shape of y to (n_samples,), for example using ravel().\n",
      "  model.fit(train_X, train_y)\n",
      "<ipython-input-13-65a138d92790>:4: DataConversionWarning: A column-vector y was passed when a 1d array was expected. Please change the shape of y to (n_samples,), for example using ravel().\n",
      "  model.fit(train_X, train_y)\n",
      "<ipython-input-13-65a138d92790>:4: DataConversionWarning: A column-vector y was passed when a 1d array was expected. Please change the shape of y to (n_samples,), for example using ravel().\n",
      "  model.fit(train_X, train_y)\n"
     ]
    },
    {
     "name": "stdout",
     "output_type": "stream",
     "text": [
      "\n",
      "\n",
      "\n",
      "Performing stepwise search to minimize aic\n"
     ]
    },
    {
     "name": "stderr",
     "output_type": "stream",
     "text": [
      "C:\\Users\\gaura\\AppData\\Local\\Programs\\Python\\Python39\\lib\\site-packages\\pmdarima\\arima\\_validation.py:76: UserWarning: stepwise model cannot be fit in parallel (n_jobs=1). Falling back to stepwise parameter search.\n",
      "  warnings.warn('stepwise model cannot be fit in parallel (n_jobs=%i). '\n"
     ]
    },
    {
     "name": "stdout",
     "output_type": "stream",
     "text": [
      " ARIMA(1,0,0)(0,1,1)[16] intercept   : AIC=14710.942, Time=9.63 sec\n",
      " ARIMA(0,0,0)(0,1,0)[16] intercept   : AIC=15457.524, Time=1.47 sec\n",
      " ARIMA(1,0,0)(1,1,0)[16] intercept   : AIC=15029.693, Time=9.87 sec\n",
      " ARIMA(0,0,1)(0,1,1)[16] intercept   : AIC=14712.143, Time=9.16 sec\n",
      " ARIMA(0,0,0)(0,1,0)[16]             : AIC=26692.625, Time=1.34 sec\n",
      " ARIMA(1,0,0)(0,1,0)[16] intercept   : AIC=15459.400, Time=2.02 sec\n",
      " ARIMA(1,0,0)(1,1,1)[16] intercept   : AIC=14714.402, Time=9.64 sec\n",
      " ARIMA(1,0,0)(0,1,2)[16] intercept   : AIC=inf, Time=23.96 sec\n",
      " ARIMA(1,0,0)(1,1,2)[16] intercept   : AIC=inf, Time=25.73 sec\n",
      " ARIMA(0,0,0)(0,1,1)[16] intercept   : AIC=14709.033, Time=7.76 sec\n",
      " ARIMA(0,0,0)(1,1,1)[16] intercept   : AIC=14712.494, Time=8.68 sec\n",
      " ARIMA(0,0,0)(0,1,2)[16] intercept   : AIC=inf, Time=21.40 sec\n",
      " ARIMA(0,0,0)(1,1,0)[16] intercept   : AIC=15027.748, Time=7.97 sec\n",
      " ARIMA(0,0,0)(1,1,2)[16] intercept   : AIC=inf, Time=24.99 sec\n"
     ]
    },
    {
     "name": "stderr",
     "output_type": "stream",
     "text": [
      "C:\\Users\\gaura\\AppData\\Local\\Programs\\Python\\Python39\\lib\\site-packages\\statsmodels\\tsa\\statespace\\sarimax.py:1899: RuntimeWarning: divide by zero encountered in reciprocal\n",
      "  return np.roots(self.polynomial_reduced_ar)**-1\n",
      "C:\\Users\\gaura\\AppData\\Local\\Programs\\Python\\Python39\\lib\\site-packages\\statsmodels\\tsa\\statespace\\sarimax.py:1906: RuntimeWarning: invalid value encountered in reciprocal\n",
      "  return np.roots(self.polynomial_reduced_ma)**-1\n",
      "C:\\Users\\gaura\\AppData\\Local\\Programs\\Python\\Python39\\lib\\site-packages\\pmdarima\\arima\\_auto_solvers.py:40: RuntimeWarning: invalid value encountered in true_divide\n",
      "  max_invroot = max(0, *np.abs(1 / model.maroots()))\n"
     ]
    },
    {
     "name": "stdout",
     "output_type": "stream",
     "text": [
      " ARIMA(1,0,1)(0,1,1)[16] intercept   : AIC=14714.286, Time=12.30 sec\n",
      " ARIMA(0,0,0)(0,1,1)[16]             : AIC=14477.588, Time=6.67 sec\n",
      " ARIMA(0,0,0)(1,1,1)[16]             : AIC=14481.954, Time=7.53 sec\n",
      " ARIMA(0,0,0)(0,1,2)[16]             : AIC=inf, Time=19.11 sec\n",
      " ARIMA(0,0,0)(1,1,0)[16]             : AIC=14960.349, Time=6.96 sec\n",
      " ARIMA(0,0,0)(1,1,2)[16]             : AIC=inf, Time=21.37 sec\n",
      " ARIMA(1,0,0)(0,1,1)[16]             : AIC=14711.796, Time=7.60 sec\n",
      " ARIMA(0,0,1)(0,1,1)[16]             : AIC=14712.950, Time=8.06 sec\n"
     ]
    },
    {
     "name": "stderr",
     "output_type": "stream",
     "text": [
      "C:\\Users\\gaura\\AppData\\Local\\Programs\\Python\\Python39\\lib\\site-packages\\statsmodels\\tsa\\statespace\\sarimax.py:1899: RuntimeWarning: divide by zero encountered in reciprocal\n",
      "  return np.roots(self.polynomial_reduced_ar)**-1\n",
      "C:\\Users\\gaura\\AppData\\Local\\Programs\\Python\\Python39\\lib\\site-packages\\statsmodels\\tsa\\statespace\\sarimax.py:1906: RuntimeWarning: invalid value encountered in reciprocal\n",
      "  return np.roots(self.polynomial_reduced_ma)**-1\n",
      "C:\\Users\\gaura\\AppData\\Local\\Programs\\Python\\Python39\\lib\\site-packages\\pmdarima\\arima\\_auto_solvers.py:40: RuntimeWarning: invalid value encountered in true_divide\n",
      "  max_invroot = max(0, *np.abs(1 / model.maroots()))\n"
     ]
    },
    {
     "name": "stdout",
     "output_type": "stream",
     "text": [
      " ARIMA(1,0,1)(0,1,1)[16]             : AIC=14715.173, Time=11.02 sec\n",
      "\n",
      "Best model:  ARIMA(0,0,0)(0,1,1)[16]          \n",
      "Total fit time: 264.290 seconds\n"
     ]
    },
    {
     "name": "stderr",
     "output_type": "stream",
     "text": [
      "C:\\Users\\gaura\\AppData\\Local\\Programs\\Python\\Python39\\lib\\site-packages\\statsmodels\\tsa\\base\\tsa_model.py:390: ValueWarning: No supported index is available. Prediction results will be given with an integer index beginning at `start`.\n",
      "  warnings.warn('No supported index is available.'\n",
      "C:\\Users\\gaura\\AppData\\Local\\Programs\\Python\\Python39\\lib\\site-packages\\sklearn\\utils\\validation.py:985: DataConversionWarning: A column-vector y was passed when a 1d array was expected. Please change the shape of y to (n_samples, ), for example using ravel().\n",
      "  y = column_or_1d(y, warn=True)\n",
      "C:\\Users\\gaura\\AppData\\Local\\Programs\\Python\\Python39\\lib\\site-packages\\sklearn\\svm\\_base.py:1199: ConvergenceWarning: Liblinear failed to converge, increase the number of iterations.\n",
      "  warnings.warn(\n",
      "C:\\Users\\gaura\\AppData\\Local\\Programs\\Python\\Python39\\lib\\site-packages\\sklearn\\svm\\_base.py:1199: ConvergenceWarning: Liblinear failed to converge, increase the number of iterations.\n",
      "  warnings.warn(\n",
      "<ipython-input-13-65a138d92790>:4: DataConversionWarning: A column-vector y was passed when a 1d array was expected. Please change the shape of y to (n_samples,), for example using ravel().\n",
      "  model.fit(train_X, train_y)\n",
      "<ipython-input-13-65a138d92790>:4: DataConversionWarning: A column-vector y was passed when a 1d array was expected. Please change the shape of y to (n_samples,), for example using ravel().\n",
      "  model.fit(train_X, train_y)\n",
      "<ipython-input-13-65a138d92790>:4: DataConversionWarning: A column-vector y was passed when a 1d array was expected. Please change the shape of y to (n_samples,), for example using ravel().\n",
      "  model.fit(train_X, train_y)\n",
      "<ipython-input-13-65a138d92790>:4: DataConversionWarning: A column-vector y was passed when a 1d array was expected. Please change the shape of y to (n_samples,), for example using ravel().\n",
      "  model.fit(train_X, train_y)\n"
     ]
    },
    {
     "name": "stdout",
     "output_type": "stream",
     "text": [
      "\n",
      "\n",
      "\n",
      "Performing stepwise search to minimize aic\n"
     ]
    },
    {
     "name": "stderr",
     "output_type": "stream",
     "text": [
      "C:\\Users\\gaura\\AppData\\Local\\Programs\\Python\\Python39\\lib\\site-packages\\pmdarima\\arima\\_validation.py:76: UserWarning: stepwise model cannot be fit in parallel (n_jobs=1). Falling back to stepwise parameter search.\n",
      "  warnings.warn('stepwise model cannot be fit in parallel (n_jobs=%i). '\n"
     ]
    },
    {
     "name": "stdout",
     "output_type": "stream",
     "text": [
      " ARIMA(1,0,0)(0,1,1)[16] intercept   : AIC=17108.752, Time=8.65 sec\n",
      " ARIMA(0,0,0)(0,1,0)[16] intercept   : AIC=17827.917, Time=1.50 sec\n",
      " ARIMA(1,0,0)(1,1,0)[16] intercept   : AIC=17397.776, Time=9.30 sec\n",
      " ARIMA(0,0,1)(0,1,1)[16] intercept   : AIC=17112.382, Time=9.08 sec\n",
      " ARIMA(0,0,0)(0,1,0)[16]             : AIC=29062.713, Time=1.38 sec\n",
      " ARIMA(1,0,0)(0,1,0)[16] intercept   : AIC=17813.437, Time=2.10 sec\n",
      " ARIMA(1,0,0)(1,1,1)[16] intercept   : AIC=17129.419, Time=9.49 sec\n",
      " ARIMA(1,0,0)(0,1,2)[16] intercept   : AIC=17071.002, Time=24.63 sec\n",
      " ARIMA(1,0,0)(1,1,2)[16] intercept   : AIC=17074.858, Time=26.16 sec\n",
      " ARIMA(0,0,0)(0,1,2)[16] intercept   : AIC=17083.810, Time=21.49 sec\n",
      " ARIMA(2,0,0)(0,1,2)[16] intercept   : AIC=17058.814, Time=26.27 sec\n",
      " ARIMA(2,0,0)(0,1,1)[16] intercept   : AIC=17096.877, Time=9.56 sec\n",
      " ARIMA(2,0,0)(1,1,2)[16] intercept   : AIC=17062.760, Time=28.34 sec\n",
      " ARIMA(2,0,0)(1,1,1)[16] intercept   : AIC=17117.565, Time=10.90 sec\n",
      " ARIMA(2,0,1)(0,1,2)[16] intercept   : AIC=17060.798, Time=29.39 sec\n",
      " ARIMA(1,0,1)(0,1,2)[16] intercept   : AIC=17069.354, Time=27.17 sec\n",
      " ARIMA(2,0,0)(0,1,2)[16]             : AIC=17056.756, Time=23.01 sec\n",
      " ARIMA(2,0,0)(0,1,1)[16]             : AIC=17094.856, Time=8.79 sec\n",
      " ARIMA(2,0,0)(1,1,2)[16]             : AIC=17060.746, Time=25.38 sec\n",
      " ARIMA(2,0,0)(1,1,1)[16]             : AIC=17115.553, Time=10.06 sec\n",
      " ARIMA(1,0,0)(0,1,2)[16]             : AIC=17068.936, Time=22.25 sec\n",
      " ARIMA(2,0,1)(0,1,2)[16]             : AIC=17058.770, Time=26.19 sec\n",
      " ARIMA(1,0,1)(0,1,2)[16]             : AIC=17067.156, Time=24.37 sec\n",
      "\n",
      "Best model:  ARIMA(2,0,0)(0,1,2)[16]          \n",
      "Total fit time: 385.472 seconds\n"
     ]
    },
    {
     "name": "stderr",
     "output_type": "stream",
     "text": [
      "C:\\Users\\gaura\\AppData\\Local\\Programs\\Python\\Python39\\lib\\site-packages\\statsmodels\\tsa\\base\\tsa_model.py:390: ValueWarning: No supported index is available. Prediction results will be given with an integer index beginning at `start`.\n",
      "  warnings.warn('No supported index is available.'\n",
      "C:\\Users\\gaura\\AppData\\Local\\Programs\\Python\\Python39\\lib\\site-packages\\sklearn\\svm\\_base.py:1199: ConvergenceWarning: Liblinear failed to converge, increase the number of iterations.\n",
      "  warnings.warn(\n",
      "<ipython-input-13-65a138d92790>:4: DataConversionWarning: A column-vector y was passed when a 1d array was expected. Please change the shape of y to (n_samples,), for example using ravel().\n",
      "  model.fit(train_X, train_y)\n",
      "<ipython-input-13-65a138d92790>:4: DataConversionWarning: A column-vector y was passed when a 1d array was expected. Please change the shape of y to (n_samples,), for example using ravel().\n",
      "  model.fit(train_X, train_y)\n",
      "<ipython-input-13-65a138d92790>:4: DataConversionWarning: A column-vector y was passed when a 1d array was expected. Please change the shape of y to (n_samples,), for example using ravel().\n",
      "  model.fit(train_X, train_y)\n",
      "<ipython-input-13-65a138d92790>:4: DataConversionWarning: A column-vector y was passed when a 1d array was expected. Please change the shape of y to (n_samples,), for example using ravel().\n",
      "  model.fit(train_X, train_y)\n"
     ]
    },
    {
     "name": "stdout",
     "output_type": "stream",
     "text": [
      "\n",
      "\n",
      "\n",
      "Performing stepwise search to minimize aic\n"
     ]
    },
    {
     "name": "stderr",
     "output_type": "stream",
     "text": [
      "C:\\Users\\gaura\\AppData\\Local\\Programs\\Python\\Python39\\lib\\site-packages\\pmdarima\\arima\\_validation.py:76: UserWarning: stepwise model cannot be fit in parallel (n_jobs=1). Falling back to stepwise parameter search.\n",
      "  warnings.warn('stepwise model cannot be fit in parallel (n_jobs=%i). '\n"
     ]
    },
    {
     "name": "stdout",
     "output_type": "stream",
     "text": [
      " ARIMA(1,0,0)(0,1,1)[16] intercept   : AIC=11564.086, Time=8.67 sec\n",
      " ARIMA(0,0,0)(0,1,0)[16] intercept   : AIC=12320.893, Time=1.66 sec\n",
      " ARIMA(1,0,0)(1,1,0)[16] intercept   : AIC=11858.815, Time=8.92 sec\n",
      " ARIMA(0,0,1)(0,1,1)[16] intercept   : AIC=11565.556, Time=9.25 sec\n",
      " ARIMA(0,0,0)(0,1,0)[16]             : AIC=23556.865, Time=1.30 sec\n",
      " ARIMA(1,0,0)(0,1,0)[16] intercept   : AIC=12322.333, Time=2.01 sec\n",
      " ARIMA(1,0,0)(1,1,1)[16] intercept   : AIC=11581.311, Time=9.59 sec\n",
      " ARIMA(1,0,0)(0,1,2)[16] intercept   : AIC=inf, Time=24.07 sec\n",
      " ARIMA(1,0,0)(1,1,2)[16] intercept   : AIC=inf, Time=26.26 sec\n",
      " ARIMA(0,0,0)(0,1,1)[16] intercept   : AIC=11561.925, Time=7.76 sec\n",
      " ARIMA(0,0,0)(1,1,1)[16] intercept   : AIC=11579.199, Time=8.66 sec\n",
      " ARIMA(0,0,0)(0,1,2)[16] intercept   : AIC=inf, Time=21.97 sec\n",
      " ARIMA(0,0,0)(1,1,0)[16] intercept   : AIC=11857.100, Time=7.88 sec\n",
      " ARIMA(0,0,0)(1,1,2)[16] intercept   : AIC=inf, Time=23.97 sec\n",
      " ARIMA(1,0,1)(0,1,1)[16] intercept   : AIC=11566.602, Time=10.03 sec\n",
      " ARIMA(0,0,0)(0,1,1)[16]             : AIC=11342.856, Time=7.13 sec\n",
      " ARIMA(0,0,0)(1,1,1)[16]             : AIC=11363.775, Time=7.65 sec\n",
      " ARIMA(0,0,0)(0,1,2)[16]             : AIC=inf, Time=19.76 sec\n",
      " ARIMA(0,0,0)(1,1,0)[16]             : AIC=11779.536, Time=7.03 sec\n",
      " ARIMA(0,0,0)(1,1,2)[16]             : AIC=inf, Time=23.19 sec\n",
      " ARIMA(1,0,0)(0,1,1)[16]             : AIC=11577.052, Time=10.57 sec\n",
      " ARIMA(0,0,1)(0,1,1)[16]             : AIC=11578.351, Time=12.71 sec\n",
      " ARIMA(1,0,1)(0,1,1)[16]             : AIC=11580.386, Time=9.27 sec\n",
      "\n",
      "Best model:  ARIMA(0,0,0)(0,1,1)[16]          \n",
      "Total fit time: 269.369 seconds\n"
     ]
    },
    {
     "name": "stderr",
     "output_type": "stream",
     "text": [
      "C:\\Users\\gaura\\AppData\\Local\\Programs\\Python\\Python39\\lib\\site-packages\\statsmodels\\tsa\\base\\tsa_model.py:390: ValueWarning: No supported index is available. Prediction results will be given with an integer index beginning at `start`.\n",
      "  warnings.warn('No supported index is available.'\n",
      "C:\\Users\\gaura\\AppData\\Local\\Programs\\Python\\Python39\\lib\\site-packages\\sklearn\\svm\\_base.py:1199: ConvergenceWarning: Liblinear failed to converge, increase the number of iterations.\n",
      "  warnings.warn(\n",
      "<ipython-input-13-65a138d92790>:4: DataConversionWarning: A column-vector y was passed when a 1d array was expected. Please change the shape of y to (n_samples,), for example using ravel().\n",
      "  model.fit(train_X, train_y)\n",
      "<ipython-input-13-65a138d92790>:4: DataConversionWarning: A column-vector y was passed when a 1d array was expected. Please change the shape of y to (n_samples,), for example using ravel().\n",
      "  model.fit(train_X, train_y)\n",
      "<ipython-input-13-65a138d92790>:4: DataConversionWarning: A column-vector y was passed when a 1d array was expected. Please change the shape of y to (n_samples,), for example using ravel().\n",
      "  model.fit(train_X, train_y)\n",
      "<ipython-input-13-65a138d92790>:4: DataConversionWarning: A column-vector y was passed when a 1d array was expected. Please change the shape of y to (n_samples,), for example using ravel().\n",
      "  model.fit(train_X, train_y)\n"
     ]
    },
    {
     "name": "stdout",
     "output_type": "stream",
     "text": [
      "\n",
      "\n",
      "\n",
      "Performing stepwise search to minimize aic\n"
     ]
    },
    {
     "name": "stderr",
     "output_type": "stream",
     "text": [
      "C:\\Users\\gaura\\AppData\\Local\\Programs\\Python\\Python39\\lib\\site-packages\\pmdarima\\arima\\_validation.py:76: UserWarning: stepwise model cannot be fit in parallel (n_jobs=1). Falling back to stepwise parameter search.\n",
      "  warnings.warn('stepwise model cannot be fit in parallel (n_jobs=%i). '\n"
     ]
    },
    {
     "name": "stdout",
     "output_type": "stream",
     "text": [
      " ARIMA(1,0,0)(0,1,1)[16] intercept   : AIC=14227.137, Time=8.83 sec\n",
      " ARIMA(0,0,0)(0,1,0)[16] intercept   : AIC=14963.318, Time=1.72 sec\n",
      " ARIMA(1,0,0)(1,1,0)[16] intercept   : AIC=14525.452, Time=9.20 sec\n",
      " ARIMA(0,0,1)(0,1,1)[16] intercept   : AIC=14227.517, Time=9.21 sec\n",
      " ARIMA(0,0,0)(0,1,0)[16]             : AIC=26198.125, Time=1.34 sec\n",
      " ARIMA(1,0,0)(0,1,0)[16] intercept   : AIC=14962.030, Time=2.18 sec\n",
      " ARIMA(1,0,0)(1,1,1)[16] intercept   : AIC=14244.801, Time=9.69 sec\n",
      " ARIMA(1,0,0)(0,1,2)[16] intercept   : AIC=inf, Time=24.40 sec\n",
      " ARIMA(1,0,0)(1,1,2)[16] intercept   : AIC=14190.257, Time=26.50 sec\n",
      " ARIMA(1,0,0)(2,1,2)[16] intercept   : AIC=14195.369, Time=28.83 sec\n",
      " ARIMA(1,0,0)(2,1,1)[16] intercept   : AIC=14262.423, Time=26.54 sec\n",
      " ARIMA(0,0,0)(1,1,2)[16] intercept   : AIC=14190.858, Time=24.12 sec\n",
      " ARIMA(2,0,0)(1,1,2)[16] intercept   : AIC=14192.086, Time=28.39 sec\n",
      " ARIMA(1,0,1)(1,1,2)[16] intercept   : AIC=14191.804, Time=30.62 sec\n",
      " ARIMA(0,0,1)(1,1,2)[16] intercept   : AIC=14190.657, Time=27.64 sec\n"
     ]
    },
    {
     "name": "stderr",
     "output_type": "stream",
     "text": [
      "C:\\Users\\gaura\\AppData\\Local\\Programs\\Python\\Python39\\lib\\site-packages\\statsmodels\\tsa\\statespace\\sarimax.py:1906: RuntimeWarning: invalid value encountered in reciprocal\n",
      "  return np.roots(self.polynomial_reduced_ma)**-1\n",
      "C:\\Users\\gaura\\AppData\\Local\\Programs\\Python\\Python39\\lib\\site-packages\\pmdarima\\arima\\_auto_solvers.py:40: RuntimeWarning: invalid value encountered in true_divide\n",
      "  max_invroot = max(0, *np.abs(1 / model.maroots()))\n"
     ]
    },
    {
     "name": "stdout",
     "output_type": "stream",
     "text": [
      " ARIMA(2,0,1)(1,1,2)[16] intercept   : AIC=15143.670, Time=33.00 sec\n",
      " ARIMA(1,0,0)(1,1,2)[16]             : AIC=14188.341, Time=23.55 sec\n",
      " ARIMA(1,0,0)(0,1,2)[16]             : AIC=inf, Time=21.51 sec\n",
      " ARIMA(1,0,0)(1,1,1)[16]             : AIC=14242.830, Time=9.13 sec\n",
      " ARIMA(1,0,0)(2,1,2)[16]             : AIC=14193.448, Time=25.58 sec\n",
      " ARIMA(1,0,0)(0,1,1)[16]             : AIC=14225.136, Time=7.84 sec\n",
      " ARIMA(1,0,0)(2,1,1)[16]             : AIC=14260.471, Time=23.82 sec\n",
      " ARIMA(0,0,0)(1,1,2)[16]             : AIC=13919.656, Time=21.44 sec\n",
      " ARIMA(0,0,0)(0,1,2)[16]             : AIC=inf, Time=20.44 sec\n",
      " ARIMA(0,0,0)(1,1,1)[16]             : AIC=14026.010, Time=7.75 sec\n",
      " ARIMA(0,0,0)(2,1,2)[16]             : AIC=13927.753, Time=23.66 sec\n",
      " ARIMA(0,0,0)(0,1,1)[16]             : AIC=13997.493, Time=6.93 sec\n",
      " ARIMA(0,0,0)(2,1,1)[16]             : AIC=14054.026, Time=20.18 sec\n",
      " ARIMA(0,0,1)(1,1,2)[16]             : AIC=14188.718, Time=24.97 sec\n",
      " ARIMA(1,0,1)(1,1,2)[16]             : AIC=14189.921, Time=27.08 sec\n",
      "\n",
      "Best model:  ARIMA(0,0,0)(1,1,2)[16]          \n",
      "Total fit time: 556.152 seconds\n"
     ]
    },
    {
     "name": "stderr",
     "output_type": "stream",
     "text": [
      "C:\\Users\\gaura\\AppData\\Local\\Programs\\Python\\Python39\\lib\\site-packages\\statsmodels\\tsa\\base\\tsa_model.py:390: ValueWarning: No supported index is available. Prediction results will be given with an integer index beginning at `start`.\n",
      "  warnings.warn('No supported index is available.'\n",
      "C:\\Users\\gaura\\AppData\\Local\\Programs\\Python\\Python39\\lib\\site-packages\\sklearn\\svm\\_base.py:1199: ConvergenceWarning: Liblinear failed to converge, increase the number of iterations.\n",
      "  warnings.warn(\n",
      "C:\\Users\\gaura\\AppData\\Local\\Programs\\Python\\Python39\\lib\\site-packages\\sklearn\\svm\\_base.py:1199: ConvergenceWarning: Liblinear failed to converge, increase the number of iterations.\n",
      "  warnings.warn(\n",
      "<ipython-input-13-65a138d92790>:4: DataConversionWarning: A column-vector y was passed when a 1d array was expected. Please change the shape of y to (n_samples,), for example using ravel().\n",
      "  model.fit(train_X, train_y)\n",
      "<ipython-input-13-65a138d92790>:4: DataConversionWarning: A column-vector y was passed when a 1d array was expected. Please change the shape of y to (n_samples,), for example using ravel().\n",
      "  model.fit(train_X, train_y)\n",
      "<ipython-input-13-65a138d92790>:4: DataConversionWarning: A column-vector y was passed when a 1d array was expected. Please change the shape of y to (n_samples,), for example using ravel().\n",
      "  model.fit(train_X, train_y)\n",
      "<ipython-input-13-65a138d92790>:4: DataConversionWarning: A column-vector y was passed when a 1d array was expected. Please change the shape of y to (n_samples,), for example using ravel().\n",
      "  model.fit(train_X, train_y)\n"
     ]
    },
    {
     "name": "stdout",
     "output_type": "stream",
     "text": [
      "\n",
      "\n",
      "\n",
      "Performing stepwise search to minimize aic\n"
     ]
    },
    {
     "name": "stderr",
     "output_type": "stream",
     "text": [
      "C:\\Users\\gaura\\AppData\\Local\\Programs\\Python\\Python39\\lib\\site-packages\\pmdarima\\arima\\_validation.py:76: UserWarning: stepwise model cannot be fit in parallel (n_jobs=1). Falling back to stepwise parameter search.\n",
      "  warnings.warn('stepwise model cannot be fit in parallel (n_jobs=%i). '\n"
     ]
    },
    {
     "name": "stdout",
     "output_type": "stream",
     "text": [
      " ARIMA(1,0,0)(0,0,1)[16] intercept   : AIC=7446.870, Time=2.76 sec\n",
      " ARIMA(0,0,0)(0,0,0)[16] intercept   : AIC=7443.879, Time=0.40 sec\n",
      " ARIMA(1,0,0)(1,0,0)[16] intercept   : AIC=7446.792, Time=2.58 sec\n",
      " ARIMA(0,0,1)(0,0,1)[16] intercept   : AIC=7446.877, Time=2.78 sec\n",
      " ARIMA(0,0,0)(0,0,0)[16]             : AIC=18798.148, Time=0.39 sec\n",
      " ARIMA(0,0,0)(1,0,0)[16] intercept   : AIC=7445.787, Time=1.88 sec\n",
      " ARIMA(0,0,0)(0,0,1)[16] intercept   : AIC=7445.908, Time=2.25 sec\n",
      " ARIMA(0,0,0)(1,0,1)[16] intercept   : AIC=7447.917, Time=2.65 sec\n",
      " ARIMA(1,0,0)(0,0,0)[16] intercept   : AIC=7444.847, Time=0.50 sec\n",
      " ARIMA(0,0,1)(0,0,0)[16] intercept   : AIC=7444.854, Time=0.56 sec\n",
      " ARIMA(1,0,1)(0,0,0)[16] intercept   : AIC=7446.836, Time=0.62 sec\n",
      "\n",
      "Best model:  ARIMA(0,0,0)(0,0,0)[16] intercept\n",
      "Total fit time: 17.406 seconds\n"
     ]
    },
    {
     "name": "stderr",
     "output_type": "stream",
     "text": [
      "C:\\Users\\gaura\\AppData\\Local\\Programs\\Python\\Python39\\lib\\site-packages\\statsmodels\\tsa\\base\\tsa_model.py:390: ValueWarning: No supported index is available. Prediction results will be given with an integer index beginning at `start`.\n",
      "  warnings.warn('No supported index is available.'\n",
      "C:\\Users\\gaura\\AppData\\Local\\Programs\\Python\\Python39\\lib\\site-packages\\statsmodels\\tsa\\base\\tsa_model.py:593: ValueWarning: A date index has been provided, but it has no associated frequency information and so will be ignored when e.g. forecasting.\n",
      "  warnings.warn('A date index has been provided, but it has no'\n",
      "C:\\Users\\gaura\\AppData\\Local\\Programs\\Python\\Python39\\lib\\site-packages\\statsmodels\\tsa\\base\\tsa_model.py:593: ValueWarning: A date index has been provided, but it has no associated frequency information and so will be ignored when e.g. forecasting.\n",
      "  warnings.warn('A date index has been provided, but it has no'\n",
      "C:\\Users\\gaura\\AppData\\Local\\Programs\\Python\\Python39\\lib\\site-packages\\sklearn\\svm\\_base.py:1199: ConvergenceWarning: Liblinear failed to converge, increase the number of iterations.\n",
      "  warnings.warn(\n",
      "<ipython-input-13-65a138d92790>:4: DataConversionWarning: A column-vector y was passed when a 1d array was expected. Please change the shape of y to (n_samples,), for example using ravel().\n",
      "  model.fit(train_X, train_y)\n",
      "<ipython-input-13-65a138d92790>:4: DataConversionWarning: A column-vector y was passed when a 1d array was expected. Please change the shape of y to (n_samples,), for example using ravel().\n",
      "  model.fit(train_X, train_y)\n",
      "<ipython-input-13-65a138d92790>:4: DataConversionWarning: A column-vector y was passed when a 1d array was expected. Please change the shape of y to (n_samples,), for example using ravel().\n",
      "  model.fit(train_X, train_y)\n",
      "<ipython-input-13-65a138d92790>:4: DataConversionWarning: A column-vector y was passed when a 1d array was expected. Please change the shape of y to (n_samples,), for example using ravel().\n",
      "  model.fit(train_X, train_y)\n"
     ]
    },
    {
     "name": "stdout",
     "output_type": "stream",
     "text": [
      "\n",
      "\n",
      "\n",
      "Performing stepwise search to minimize aic\n"
     ]
    },
    {
     "name": "stderr",
     "output_type": "stream",
     "text": [
      "C:\\Users\\gaura\\AppData\\Local\\Programs\\Python\\Python39\\lib\\site-packages\\pmdarima\\arima\\_validation.py:76: UserWarning: stepwise model cannot be fit in parallel (n_jobs=1). Falling back to stepwise parameter search.\n",
      "  warnings.warn('stepwise model cannot be fit in parallel (n_jobs=%i). '\n"
     ]
    },
    {
     "name": "stdout",
     "output_type": "stream",
     "text": [
      " ARIMA(1,0,0)(0,1,1)[16] intercept   : AIC=9253.643, Time=8.80 sec\n",
      " ARIMA(0,0,0)(0,1,0)[16] intercept   : AIC=9979.680, Time=1.66 sec\n",
      " ARIMA(1,0,0)(1,1,0)[16] intercept   : AIC=9538.108, Time=9.46 sec\n",
      " ARIMA(0,0,1)(0,1,1)[16] intercept   : AIC=9254.464, Time=9.25 sec\n",
      " ARIMA(0,0,0)(0,1,0)[16]             : AIC=21214.536, Time=1.43 sec\n",
      " ARIMA(1,0,0)(0,1,0)[16] intercept   : AIC=9981.676, Time=1.92 sec\n",
      " ARIMA(1,0,0)(1,1,1)[16] intercept   : AIC=9274.035, Time=9.77 sec\n",
      " ARIMA(1,0,0)(0,1,2)[16] intercept   : AIC=inf, Time=24.25 sec\n",
      " ARIMA(1,0,0)(1,1,2)[16] intercept   : AIC=9227.120, Time=26.58 sec\n",
      " ARIMA(1,0,0)(2,1,2)[16] intercept   : AIC=9233.354, Time=28.75 sec\n",
      " ARIMA(1,0,0)(2,1,1)[16] intercept   : AIC=9301.216, Time=26.37 sec\n",
      " ARIMA(0,0,0)(1,1,2)[16] intercept   : AIC=9224.819, Time=24.26 sec\n",
      " ARIMA(0,0,0)(0,1,2)[16] intercept   : AIC=inf, Time=22.07 sec\n",
      " ARIMA(0,0,0)(1,1,1)[16] intercept   : AIC=9271.870, Time=8.79 sec\n",
      " ARIMA(0,0,0)(2,1,2)[16] intercept   : AIC=9231.079, Time=27.38 sec\n",
      " ARIMA(0,0,0)(0,1,1)[16] intercept   : AIC=9251.467, Time=8.13 sec\n",
      " ARIMA(0,0,0)(2,1,1)[16] intercept   : AIC=9299.045, Time=22.82 sec\n",
      " ARIMA(0,0,1)(1,1,2)[16] intercept   : AIC=9228.017, Time=27.97 sec\n",
      " ARIMA(1,0,1)(1,1,2)[16] intercept   : AIC=9230.237, Time=30.39 sec\n",
      " ARIMA(0,0,0)(1,1,2)[16]             : AIC=8976.646, Time=21.57 sec\n",
      " ARIMA(0,0,0)(0,1,2)[16]             : AIC=inf, Time=19.71 sec\n",
      " ARIMA(0,0,0)(1,1,1)[16]             : AIC=9066.907, Time=7.78 sec\n",
      " ARIMA(0,0,0)(2,1,2)[16]             : AIC=8985.699, Time=24.38 sec\n",
      " ARIMA(0,0,0)(0,1,1)[16]             : AIC=9036.279, Time=6.87 sec\n",
      " ARIMA(0,0,0)(2,1,1)[16]             : AIC=9107.519, Time=20.04 sec\n",
      " ARIMA(1,0,0)(1,1,2)[16]             : AIC=9226.820, Time=28.81 sec\n",
      " ARIMA(0,0,1)(1,1,2)[16]             : AIC=9227.688, Time=37.78 sec\n",
      " ARIMA(1,0,1)(1,1,2)[16]             : AIC=9229.604, Time=41.73 sec\n",
      "\n",
      "Best model:  ARIMA(0,0,0)(1,1,2)[16]          \n",
      "Total fit time: 528.739 seconds\n"
     ]
    },
    {
     "name": "stderr",
     "output_type": "stream",
     "text": [
      "C:\\Users\\gaura\\AppData\\Local\\Programs\\Python\\Python39\\lib\\site-packages\\statsmodels\\tsa\\base\\tsa_model.py:390: ValueWarning: No supported index is available. Prediction results will be given with an integer index beginning at `start`.\n",
      "  warnings.warn('No supported index is available.'\n",
      "C:\\Users\\gaura\\AppData\\Local\\Programs\\Python\\Python39\\lib\\site-packages\\sklearn\\utils\\validation.py:985: DataConversionWarning: A column-vector y was passed when a 1d array was expected. Please change the shape of y to (n_samples, ), for example using ravel().\n",
      "  y = column_or_1d(y, warn=True)\n",
      "C:\\Users\\gaura\\AppData\\Local\\Programs\\Python\\Python39\\lib\\site-packages\\sklearn\\svm\\_base.py:1199: ConvergenceWarning: Liblinear failed to converge, increase the number of iterations.\n",
      "  warnings.warn(\n",
      "C:\\Users\\gaura\\AppData\\Local\\Programs\\Python\\Python39\\lib\\site-packages\\sklearn\\svm\\_base.py:1199: ConvergenceWarning: Liblinear failed to converge, increase the number of iterations.\n",
      "  warnings.warn(\n",
      "<ipython-input-13-65a138d92790>:4: DataConversionWarning: A column-vector y was passed when a 1d array was expected. Please change the shape of y to (n_samples,), for example using ravel().\n",
      "  model.fit(train_X, train_y)\n",
      "<ipython-input-13-65a138d92790>:4: DataConversionWarning: A column-vector y was passed when a 1d array was expected. Please change the shape of y to (n_samples,), for example using ravel().\n",
      "  model.fit(train_X, train_y)\n",
      "<ipython-input-13-65a138d92790>:4: DataConversionWarning: A column-vector y was passed when a 1d array was expected. Please change the shape of y to (n_samples,), for example using ravel().\n",
      "  model.fit(train_X, train_y)\n",
      "<ipython-input-13-65a138d92790>:4: DataConversionWarning: A column-vector y was passed when a 1d array was expected. Please change the shape of y to (n_samples,), for example using ravel().\n",
      "  model.fit(train_X, train_y)\n"
     ]
    },
    {
     "name": "stdout",
     "output_type": "stream",
     "text": [
      "\n",
      "\n",
      "\n",
      "Performing stepwise search to minimize aic\n"
     ]
    },
    {
     "name": "stderr",
     "output_type": "stream",
     "text": [
      "C:\\Users\\gaura\\AppData\\Local\\Programs\\Python\\Python39\\lib\\site-packages\\pmdarima\\arima\\_validation.py:76: UserWarning: stepwise model cannot be fit in parallel (n_jobs=1). Falling back to stepwise parameter search.\n",
      "  warnings.warn('stepwise model cannot be fit in parallel (n_jobs=%i). '\n"
     ]
    },
    {
     "name": "stdout",
     "output_type": "stream",
     "text": [
      " ARIMA(1,0,0)(0,1,1)[16] intercept   : AIC=15191.669, Time=12.51 sec\n",
      " ARIMA(0,0,0)(0,1,0)[16] intercept   : AIC=15755.788, Time=2.21 sec\n",
      " ARIMA(1,0,0)(1,1,0)[16] intercept   : AIC=15444.033, Time=16.23 sec\n",
      " ARIMA(0,0,1)(0,1,1)[16] intercept   : AIC=15192.258, Time=14.82 sec\n",
      " ARIMA(0,0,0)(0,1,0)[16]             : AIC=26992.514, Time=1.84 sec\n",
      " ARIMA(1,0,0)(0,1,0)[16] intercept   : AIC=15757.788, Time=3.24 sec\n",
      " ARIMA(1,0,0)(1,1,1)[16] intercept   : AIC=15175.550, Time=15.88 sec\n",
      " ARIMA(1,0,0)(2,1,1)[16] intercept   : AIC=15182.475, Time=43.34 sec\n",
      " ARIMA(1,0,0)(1,1,2)[16] intercept   : AIC=15168.780, Time=58.71 sec\n",
      " ARIMA(1,0,0)(0,1,2)[16] intercept   : AIC=15172.162, Time=38.42 sec\n",
      " ARIMA(1,0,0)(2,1,2)[16] intercept   : AIC=15169.754, Time=39.58 sec\n",
      " ARIMA(0,0,0)(1,1,2)[16] intercept   : AIC=15166.424, Time=34.10 sec\n",
      " ARIMA(0,0,0)(0,1,2)[16] intercept   : AIC=15169.941, Time=31.80 sec\n",
      " ARIMA(0,0,0)(1,1,1)[16] intercept   : AIC=15173.316, Time=13.28 sec\n",
      " ARIMA(0,0,0)(2,1,2)[16] intercept   : AIC=15167.395, Time=38.32 sec\n",
      " ARIMA(0,0,0)(0,1,1)[16] intercept   : AIC=15189.387, Time=12.64 sec\n",
      " ARIMA(0,0,0)(2,1,1)[16] intercept   : AIC=15180.168, Time=33.69 sec\n",
      " ARIMA(0,0,1)(1,1,2)[16] intercept   : AIC=15168.851, Time=41.82 sec\n",
      " ARIMA(1,0,1)(1,1,2)[16] intercept   : AIC=15174.900, Time=48.44 sec\n",
      " ARIMA(0,0,0)(1,1,2)[16]             : AIC=15074.468, Time=34.24 sec\n",
      " ARIMA(0,0,0)(0,1,2)[16]             : AIC=15089.797, Time=32.36 sec\n",
      " ARIMA(0,0,0)(1,1,1)[16]             : AIC=15067.806, Time=12.41 sec\n",
      " ARIMA(0,0,0)(0,1,1)[16]             : AIC=15084.801, Time=11.34 sec\n",
      " ARIMA(0,0,0)(1,1,0)[16]             : AIC=15410.646, Time=11.94 sec\n",
      " ARIMA(0,0,0)(2,1,1)[16]             : AIC=15070.731, Time=33.88 sec\n",
      " ARIMA(0,0,0)(2,1,0)[16]             : AIC=15229.320, Time=48.88 sec\n",
      " ARIMA(0,0,0)(2,1,2)[16]             : AIC=15065.751, Time=48.38 sec\n",
      " ARIMA(1,0,0)(2,1,2)[16]             : AIC=15194.616, Time=41.42 sec\n",
      " ARIMA(0,0,1)(2,1,2)[16]             : AIC=15194.517, Time=45.82 sec\n",
      " ARIMA(1,0,1)(2,1,2)[16]             : AIC=15196.314, Time=50.63 sec\n",
      "\n",
      "Best model:  ARIMA(0,0,0)(2,1,2)[16]          \n",
      "Total fit time: 872.895 seconds\n"
     ]
    },
    {
     "name": "stderr",
     "output_type": "stream",
     "text": [
      "C:\\Users\\gaura\\AppData\\Local\\Programs\\Python\\Python39\\lib\\site-packages\\statsmodels\\tsa\\base\\tsa_model.py:390: ValueWarning: No supported index is available. Prediction results will be given with an integer index beginning at `start`.\n",
      "  warnings.warn('No supported index is available.'\n",
      "C:\\Users\\gaura\\AppData\\Local\\Programs\\Python\\Python39\\lib\\site-packages\\sklearn\\svm\\_base.py:1199: ConvergenceWarning: Liblinear failed to converge, increase the number of iterations.\n",
      "  warnings.warn(\n",
      "<ipython-input-13-65a138d92790>:4: DataConversionWarning: A column-vector y was passed when a 1d array was expected. Please change the shape of y to (n_samples,), for example using ravel().\n",
      "  model.fit(train_X, train_y)\n",
      "<ipython-input-13-65a138d92790>:4: DataConversionWarning: A column-vector y was passed when a 1d array was expected. Please change the shape of y to (n_samples,), for example using ravel().\n",
      "  model.fit(train_X, train_y)\n",
      "<ipython-input-13-65a138d92790>:4: DataConversionWarning: A column-vector y was passed when a 1d array was expected. Please change the shape of y to (n_samples,), for example using ravel().\n",
      "  model.fit(train_X, train_y)\n",
      "<ipython-input-13-65a138d92790>:4: DataConversionWarning: A column-vector y was passed when a 1d array was expected. Please change the shape of y to (n_samples,), for example using ravel().\n",
      "  model.fit(train_X, train_y)\n"
     ]
    },
    {
     "name": "stdout",
     "output_type": "stream",
     "text": [
      "\n",
      "\n",
      "\n",
      "Performing stepwise search to minimize aic\n"
     ]
    },
    {
     "name": "stderr",
     "output_type": "stream",
     "text": [
      "C:\\Users\\gaura\\AppData\\Local\\Programs\\Python\\Python39\\lib\\site-packages\\pmdarima\\arima\\_validation.py:76: UserWarning: stepwise model cannot be fit in parallel (n_jobs=1). Falling back to stepwise parameter search.\n",
      "  warnings.warn('stepwise model cannot be fit in parallel (n_jobs=%i). '\n"
     ]
    },
    {
     "name": "stdout",
     "output_type": "stream",
     "text": [
      " ARIMA(1,0,0)(0,0,1)[16] intercept   : AIC=11191.530, Time=4.84 sec\n",
      " ARIMA(0,0,0)(0,0,0)[16] intercept   : AIC=11187.869, Time=0.66 sec\n",
      " ARIMA(1,0,0)(1,0,0)[16] intercept   : AIC=11191.516, Time=4.20 sec\n",
      " ARIMA(0,0,1)(0,0,1)[16] intercept   : AIC=11191.535, Time=4.47 sec\n",
      " ARIMA(0,0,0)(0,0,0)[16]             : AIC=22542.128, Time=0.90 sec\n",
      " ARIMA(0,0,0)(1,0,0)[16] intercept   : AIC=11189.531, Time=3.45 sec\n",
      " ARIMA(0,0,0)(0,0,1)[16] intercept   : AIC=11189.546, Time=2.67 sec\n",
      " ARIMA(0,0,0)(1,0,1)[16] intercept   : AIC=11191.287, Time=2.73 sec\n",
      " ARIMA(1,0,0)(0,0,0)[16] intercept   : AIC=11189.854, Time=0.61 sec\n",
      " ARIMA(0,0,1)(0,0,0)[16] intercept   : AIC=11189.858, Time=0.65 sec\n",
      " ARIMA(1,0,1)(0,0,0)[16] intercept   : AIC=11191.787, Time=0.72 sec\n",
      "\n",
      "Best model:  ARIMA(0,0,0)(0,0,0)[16] intercept\n",
      "Total fit time: 25.913 seconds\n"
     ]
    },
    {
     "name": "stderr",
     "output_type": "stream",
     "text": [
      "C:\\Users\\gaura\\AppData\\Local\\Programs\\Python\\Python39\\lib\\site-packages\\statsmodels\\tsa\\base\\tsa_model.py:390: ValueWarning: No supported index is available. Prediction results will be given with an integer index beginning at `start`.\n",
      "  warnings.warn('No supported index is available.'\n",
      "C:\\Users\\gaura\\AppData\\Local\\Programs\\Python\\Python39\\lib\\site-packages\\statsmodels\\tsa\\base\\tsa_model.py:593: ValueWarning: A date index has been provided, but it has no associated frequency information and so will be ignored when e.g. forecasting.\n",
      "  warnings.warn('A date index has been provided, but it has no'\n",
      "C:\\Users\\gaura\\AppData\\Local\\Programs\\Python\\Python39\\lib\\site-packages\\statsmodels\\tsa\\base\\tsa_model.py:593: ValueWarning: A date index has been provided, but it has no associated frequency information and so will be ignored when e.g. forecasting.\n",
      "  warnings.warn('A date index has been provided, but it has no'\n",
      "C:\\Users\\gaura\\AppData\\Local\\Programs\\Python\\Python39\\lib\\site-packages\\sklearn\\svm\\_base.py:1199: ConvergenceWarning: Liblinear failed to converge, increase the number of iterations.\n",
      "  warnings.warn(\n",
      "<ipython-input-13-65a138d92790>:4: DataConversionWarning: A column-vector y was passed when a 1d array was expected. Please change the shape of y to (n_samples,), for example using ravel().\n",
      "  model.fit(train_X, train_y)\n",
      "<ipython-input-13-65a138d92790>:4: DataConversionWarning: A column-vector y was passed when a 1d array was expected. Please change the shape of y to (n_samples,), for example using ravel().\n",
      "  model.fit(train_X, train_y)\n",
      "<ipython-input-13-65a138d92790>:4: DataConversionWarning: A column-vector y was passed when a 1d array was expected. Please change the shape of y to (n_samples,), for example using ravel().\n",
      "  model.fit(train_X, train_y)\n",
      "<ipython-input-13-65a138d92790>:4: DataConversionWarning: A column-vector y was passed when a 1d array was expected. Please change the shape of y to (n_samples,), for example using ravel().\n",
      "  model.fit(train_X, train_y)\n"
     ]
    },
    {
     "name": "stdout",
     "output_type": "stream",
     "text": [
      "\n",
      "\n",
      "\n",
      "Performing stepwise search to minimize aic\n"
     ]
    },
    {
     "name": "stderr",
     "output_type": "stream",
     "text": [
      "C:\\Users\\gaura\\AppData\\Local\\Programs\\Python\\Python39\\lib\\site-packages\\pmdarima\\arima\\_validation.py:76: UserWarning: stepwise model cannot be fit in parallel (n_jobs=1). Falling back to stepwise parameter search.\n",
      "  warnings.warn('stepwise model cannot be fit in parallel (n_jobs=%i). '\n"
     ]
    },
    {
     "name": "stdout",
     "output_type": "stream",
     "text": [
      " ARIMA(1,0,0)(0,1,1)[16] intercept   : AIC=13381.030, Time=12.12 sec\n",
      " ARIMA(0,0,0)(0,1,0)[16] intercept   : AIC=14130.550, Time=2.54 sec\n",
      " ARIMA(1,0,0)(1,1,0)[16] intercept   : AIC=13639.120, Time=14.74 sec\n",
      " ARIMA(0,0,1)(0,1,1)[16] intercept   : AIC=13381.801, Time=15.03 sec\n",
      " ARIMA(0,0,0)(0,1,0)[16]             : AIC=25365.429, Time=2.50 sec\n",
      " ARIMA(1,0,0)(0,1,0)[16] intercept   : AIC=14132.081, Time=2.92 sec\n",
      " ARIMA(1,0,0)(1,1,1)[16] intercept   : AIC=13418.676, Time=15.11 sec\n",
      " ARIMA(1,0,0)(0,1,2)[16] intercept   : AIC=13364.386, Time=38.64 sec\n",
      " ARIMA(1,0,0)(1,1,2)[16] intercept   : AIC=13359.245, Time=43.48 sec\n",
      " ARIMA(1,0,0)(2,1,2)[16] intercept   : AIC=13373.740, Time=44.53 sec\n",
      " ARIMA(1,0,0)(2,1,1)[16] intercept   : AIC=13444.482, Time=47.16 sec\n",
      " ARIMA(0,0,0)(1,1,2)[16] intercept   : AIC=13357.689, Time=41.31 sec\n",
      " ARIMA(0,0,0)(0,1,2)[16] intercept   : AIC=13362.705, Time=35.59 sec\n",
      " ARIMA(0,0,0)(1,1,1)[16] intercept   : AIC=13416.969, Time=14.30 sec\n",
      " ARIMA(0,0,0)(2,1,2)[16] intercept   : AIC=13372.232, Time=42.51 sec\n",
      " ARIMA(0,0,0)(0,1,1)[16] intercept   : AIC=13379.388, Time=12.61 sec\n",
      " ARIMA(0,0,0)(2,1,1)[16] intercept   : AIC=13442.752, Time=34.39 sec\n",
      " ARIMA(0,0,1)(1,1,2)[16] intercept   : AIC=13360.113, Time=42.26 sec\n",
      " ARIMA(1,0,1)(1,1,2)[16] intercept   : AIC=13363.020, Time=45.89 sec\n",
      " ARIMA(0,0,0)(1,1,2)[16]             : AIC=13090.701, Time=30.72 sec\n",
      " ARIMA(0,0,0)(0,1,2)[16]             : AIC=13098.688, Time=28.78 sec\n",
      " ARIMA(0,0,0)(1,1,1)[16]             : AIC=13199.716, Time=13.98 sec\n",
      " ARIMA(0,0,0)(2,1,2)[16]             : AIC=13119.195, Time=39.53 sec\n",
      " ARIMA(0,0,0)(0,1,1)[16]             : AIC=13134.188, Time=13.98 sec\n",
      " ARIMA(0,0,0)(2,1,1)[16]             : AIC=13243.649, Time=33.15 sec\n",
      " ARIMA(1,0,0)(1,1,2)[16]             : AIC=13357.434, Time=38.51 sec\n",
      " ARIMA(0,0,1)(1,1,2)[16]             : AIC=13358.333, Time=40.70 sec\n",
      " ARIMA(1,0,1)(1,1,2)[16]             : AIC=13361.372, Time=49.58 sec\n",
      "\n",
      "Best model:  ARIMA(0,0,0)(1,1,2)[16]          \n",
      "Total fit time: 797.273 seconds\n"
     ]
    },
    {
     "name": "stderr",
     "output_type": "stream",
     "text": [
      "C:\\Users\\gaura\\AppData\\Local\\Programs\\Python\\Python39\\lib\\site-packages\\statsmodels\\tsa\\base\\tsa_model.py:390: ValueWarning: No supported index is available. Prediction results will be given with an integer index beginning at `start`.\n",
      "  warnings.warn('No supported index is available.'\n",
      "C:\\Users\\gaura\\AppData\\Local\\Programs\\Python\\Python39\\lib\\site-packages\\sklearn\\utils\\validation.py:985: DataConversionWarning: A column-vector y was passed when a 1d array was expected. Please change the shape of y to (n_samples, ), for example using ravel().\n",
      "  y = column_or_1d(y, warn=True)\n",
      "C:\\Users\\gaura\\AppData\\Local\\Programs\\Python\\Python39\\lib\\site-packages\\sklearn\\svm\\_base.py:1199: ConvergenceWarning: Liblinear failed to converge, increase the number of iterations.\n",
      "  warnings.warn(\n",
      "C:\\Users\\gaura\\AppData\\Local\\Programs\\Python\\Python39\\lib\\site-packages\\sklearn\\svm\\_base.py:1199: ConvergenceWarning: Liblinear failed to converge, increase the number of iterations.\n",
      "  warnings.warn(\n",
      "C:\\Users\\gaura\\AppData\\Local\\Programs\\Python\\Python39\\lib\\site-packages\\sklearn\\svm\\_base.py:1199: ConvergenceWarning: Liblinear failed to converge, increase the number of iterations.\n",
      "  warnings.warn(\n",
      "<ipython-input-13-65a138d92790>:4: DataConversionWarning: A column-vector y was passed when a 1d array was expected. Please change the shape of y to (n_samples,), for example using ravel().\n",
      "  model.fit(train_X, train_y)\n",
      "<ipython-input-13-65a138d92790>:4: DataConversionWarning: A column-vector y was passed when a 1d array was expected. Please change the shape of y to (n_samples,), for example using ravel().\n",
      "  model.fit(train_X, train_y)\n",
      "<ipython-input-13-65a138d92790>:4: DataConversionWarning: A column-vector y was passed when a 1d array was expected. Please change the shape of y to (n_samples,), for example using ravel().\n",
      "  model.fit(train_X, train_y)\n",
      "<ipython-input-13-65a138d92790>:4: DataConversionWarning: A column-vector y was passed when a 1d array was expected. Please change the shape of y to (n_samples,), for example using ravel().\n",
      "  model.fit(train_X, train_y)\n"
     ]
    },
    {
     "name": "stdout",
     "output_type": "stream",
     "text": [
      "\n",
      "\n",
      "\n",
      "Performing stepwise search to minimize aic\n"
     ]
    },
    {
     "name": "stderr",
     "output_type": "stream",
     "text": [
      "C:\\Users\\gaura\\AppData\\Local\\Programs\\Python\\Python39\\lib\\site-packages\\pmdarima\\arima\\_validation.py:76: UserWarning: stepwise model cannot be fit in parallel (n_jobs=1). Falling back to stepwise parameter search.\n",
      "  warnings.warn('stepwise model cannot be fit in parallel (n_jobs=%i). '\n"
     ]
    },
    {
     "name": "stdout",
     "output_type": "stream",
     "text": [
      " ARIMA(1,0,0)(0,1,1)[16] intercept   : AIC=9030.168, Time=19.21 sec\n",
      " ARIMA(0,0,0)(0,1,0)[16] intercept   : AIC=9759.140, Time=4.54 sec\n",
      " ARIMA(1,0,0)(1,1,0)[16] intercept   : AIC=9335.715, Time=21.56 sec\n",
      " ARIMA(0,0,1)(0,1,1)[16] intercept   : AIC=9031.281, Time=20.19 sec\n",
      " ARIMA(0,0,0)(0,1,0)[16]             : AIC=20993.933, Time=3.20 sec\n",
      " ARIMA(1,0,0)(0,1,0)[16] intercept   : AIC=9760.762, Time=4.12 sec\n",
      " ARIMA(1,0,0)(1,1,1)[16] intercept   : AIC=9042.266, Time=22.26 sec\n",
      " ARIMA(1,0,0)(0,1,2)[16] intercept   : AIC=inf, Time=57.88 sec\n",
      " ARIMA(1,0,0)(1,1,2)[16] intercept   : AIC=inf, Time=63.30 sec\n",
      " ARIMA(0,0,0)(0,1,1)[16] intercept   : AIC=9028.084, Time=18.45 sec\n",
      " ARIMA(0,0,0)(1,1,1)[16] intercept   : AIC=9040.208, Time=20.75 sec\n",
      " ARIMA(0,0,0)(0,1,2)[16] intercept   : AIC=inf, Time=52.38 sec\n",
      " ARIMA(0,0,0)(1,1,0)[16] intercept   : AIC=9333.347, Time=18.21 sec\n",
      " ARIMA(0,0,0)(1,1,2)[16] intercept   : AIC=inf, Time=57.69 sec\n",
      " ARIMA(1,0,1)(0,1,1)[16] intercept   : AIC=9033.358, Time=23.55 sec\n",
      " ARIMA(0,0,0)(0,1,1)[16]             : AIC=8807.908, Time=18.05 sec\n",
      " ARIMA(0,0,0)(1,1,1)[16]             : AIC=8826.219, Time=19.16 sec\n",
      " ARIMA(0,0,0)(0,1,2)[16]             : AIC=inf, Time=48.99 sec\n",
      " ARIMA(0,0,0)(1,1,0)[16]             : AIC=9266.627, Time=10.04 sec\n",
      " ARIMA(0,0,0)(1,1,2)[16]             : AIC=inf, Time=52.55 sec\n",
      " ARIMA(1,0,0)(0,1,1)[16]             : AIC=9028.219, Time=17.46 sec\n",
      " ARIMA(0,0,1)(0,1,1)[16]             : AIC=9029.357, Time=14.49 sec\n",
      " ARIMA(1,0,1)(0,1,1)[16]             : AIC=9031.436, Time=16.04 sec\n",
      "\n",
      "Best model:  ARIMA(0,0,0)(0,1,1)[16]          \n",
      "Total fit time: 604.646 seconds\n"
     ]
    },
    {
     "name": "stderr",
     "output_type": "stream",
     "text": [
      "C:\\Users\\gaura\\AppData\\Local\\Programs\\Python\\Python39\\lib\\site-packages\\statsmodels\\tsa\\base\\tsa_model.py:390: ValueWarning: No supported index is available. Prediction results will be given with an integer index beginning at `start`.\n",
      "  warnings.warn('No supported index is available.'\n",
      "C:\\Users\\gaura\\AppData\\Local\\Programs\\Python\\Python39\\lib\\site-packages\\sklearn\\utils\\validation.py:985: DataConversionWarning: A column-vector y was passed when a 1d array was expected. Please change the shape of y to (n_samples, ), for example using ravel().\n",
      "  y = column_or_1d(y, warn=True)\n",
      "C:\\Users\\gaura\\AppData\\Local\\Programs\\Python\\Python39\\lib\\site-packages\\sklearn\\svm\\_base.py:1199: ConvergenceWarning: Liblinear failed to converge, increase the number of iterations.\n",
      "  warnings.warn(\n",
      "C:\\Users\\gaura\\AppData\\Local\\Programs\\Python\\Python39\\lib\\site-packages\\sklearn\\svm\\_base.py:1199: ConvergenceWarning: Liblinear failed to converge, increase the number of iterations.\n",
      "  warnings.warn(\n",
      "<ipython-input-13-65a138d92790>:4: DataConversionWarning: A column-vector y was passed when a 1d array was expected. Please change the shape of y to (n_samples,), for example using ravel().\n",
      "  model.fit(train_X, train_y)\n",
      "<ipython-input-13-65a138d92790>:4: DataConversionWarning: A column-vector y was passed when a 1d array was expected. Please change the shape of y to (n_samples,), for example using ravel().\n",
      "  model.fit(train_X, train_y)\n",
      "<ipython-input-13-65a138d92790>:4: DataConversionWarning: A column-vector y was passed when a 1d array was expected. Please change the shape of y to (n_samples,), for example using ravel().\n",
      "  model.fit(train_X, train_y)\n",
      "<ipython-input-13-65a138d92790>:4: DataConversionWarning: A column-vector y was passed when a 1d array was expected. Please change the shape of y to (n_samples,), for example using ravel().\n",
      "  model.fit(train_X, train_y)\n"
     ]
    },
    {
     "name": "stdout",
     "output_type": "stream",
     "text": [
      "\n",
      "\n",
      "\n",
      "Performing stepwise search to minimize aic\n"
     ]
    },
    {
     "name": "stderr",
     "output_type": "stream",
     "text": [
      "C:\\Users\\gaura\\AppData\\Local\\Programs\\Python\\Python39\\lib\\site-packages\\pmdarima\\arima\\_validation.py:76: UserWarning: stepwise model cannot be fit in parallel (n_jobs=1). Falling back to stepwise parameter search.\n",
      "  warnings.warn('stepwise model cannot be fit in parallel (n_jobs=%i). '\n"
     ]
    },
    {
     "name": "stdout",
     "output_type": "stream",
     "text": [
      " ARIMA(1,0,0)(0,1,1)[16] intercept   : AIC=14182.656, Time=14.59 sec\n",
      " ARIMA(0,0,0)(0,1,0)[16] intercept   : AIC=14899.555, Time=2.79 sec\n",
      " ARIMA(1,0,0)(1,1,0)[16] intercept   : AIC=14464.249, Time=15.63 sec\n",
      " ARIMA(0,0,1)(0,1,1)[16] intercept   : AIC=14183.535, Time=15.53 sec\n",
      " ARIMA(0,0,0)(0,1,0)[16]             : AIC=26134.395, Time=2.67 sec\n",
      " ARIMA(1,0,0)(0,1,0)[16] intercept   : AIC=14901.111, Time=3.42 sec\n",
      " ARIMA(1,0,0)(1,1,1)[16] intercept   : AIC=14196.868, Time=15.79 sec\n",
      " ARIMA(1,0,0)(0,1,2)[16] intercept   : AIC=14149.457, Time=45.18 sec\n",
      " ARIMA(1,0,0)(1,1,2)[16] intercept   : AIC=14151.945, Time=57.64 sec\n",
      " ARIMA(0,0,0)(0,1,2)[16] intercept   : AIC=14147.186, Time=49.67 sec\n",
      " ARIMA(0,0,0)(0,1,1)[16] intercept   : AIC=14180.391, Time=20.85 sec\n",
      " ARIMA(0,0,0)(1,1,2)[16] intercept   : AIC=14149.651, Time=57.19 sec\n",
      " ARIMA(0,0,0)(1,1,1)[16] intercept   : AIC=14194.591, Time=15.44 sec\n",
      " ARIMA(0,0,1)(0,1,2)[16] intercept   : AIC=14150.379, Time=42.57 sec\n",
      " ARIMA(1,0,1)(0,1,2)[16] intercept   : AIC=14152.610, Time=46.04 sec\n",
      " ARIMA(0,0,0)(0,1,2)[16]             : AIC=13911.292, Time=35.00 sec\n",
      " ARIMA(0,0,0)(0,1,1)[16]             : AIC=13970.455, Time=12.26 sec\n",
      " ARIMA(0,0,0)(1,1,2)[16]             : AIC=13908.570, Time=35.05 sec\n",
      " ARIMA(0,0,0)(1,1,1)[16]             : AIC=13991.622, Time=13.97 sec\n",
      " ARIMA(0,0,0)(2,1,2)[16]             : AIC=13909.061, Time=39.41 sec\n",
      " ARIMA(0,0,0)(2,1,1)[16]             : AIC=13992.070, Time=26.58 sec\n",
      " ARIMA(1,0,0)(1,1,2)[16]             : AIC=14150.742, Time=34.60 sec\n",
      " ARIMA(0,0,1)(1,1,2)[16]             : AIC=14151.672, Time=41.95 sec\n",
      " ARIMA(1,0,1)(1,1,2)[16]             : AIC=14153.471, Time=46.56 sec\n",
      "\n",
      "Best model:  ARIMA(0,0,0)(1,1,2)[16]          \n",
      "Total fit time: 691.105 seconds\n"
     ]
    },
    {
     "name": "stderr",
     "output_type": "stream",
     "text": [
      "C:\\Users\\gaura\\AppData\\Local\\Programs\\Python\\Python39\\lib\\site-packages\\statsmodels\\tsa\\base\\tsa_model.py:390: ValueWarning: No supported index is available. Prediction results will be given with an integer index beginning at `start`.\n",
      "  warnings.warn('No supported index is available.'\n"
     ]
    }
   ],
   "source": [
    "paths = ['../datasets/companies/BAJAJ-AUTO.csv', '../datasets/companies/BAJFINANCE.csv', '../datasets/companies/HDFCBANK.csv', '../datasets/companies/INFY.csv', '../datasets/companies/ITC.csv', '../datasets/companies/LICHSGFIN.csv', '../datasets/companies/PFIZER.csv', '../datasets/companies/RELIANCE.csv', '../datasets/companies/SBIN.csv', '../datasets/companies/TATAMOTORS.csv', '../datasets/companies/TCS.csv']\n",
    "company = [\"BAJAJ-AUTO\", \"BAJFINANCE\", \"HDFCBANK\", \"INFY\", \"ITC\", \"LICHSGFIN\", \"PFIZER\", \"RELIANCE\", \"SBIN\", \"TATAMOTORS\", \"TCS\"]\n",
    "\n",
    "modelSelection = []\n",
    "final = []\n",
    "\n",
    "for i in range(0, len(paths)):\n",
    "    \n",
    "    temp = []\n",
    "    \n",
    "    data = readData(paths[i])\n",
    "    \n",
    "    X_train,Y_train,X_test,Y_test = data_split(data, True)\n",
    "    \n",
    "    LR = LRModel(X_train, Y_train, X_test, Y_test)\n",
    "    SVR = SVRModel(X_train, Y_train['Close'].tolist(), X_test, Y_test['Close'].tolist())\n",
    "    DTR = DTRModel(X_train, Y_train, X_test, Y_test)\n",
    "    RF = RFModel(X_train, Y_train, X_test, Y_test)\n",
    "    SMX = SMXModel(X_train, Y_train, X_test, Y_test)\n",
    "\n",
    "    temp.append(LR[1])\n",
    "    temp.append(SVR[1])\n",
    "    temp.append(DTR[1])\n",
    "    temp.append(RF[1])\n",
    "    temp.append(SMX[1])\n",
    "\n",
    "    x = temp.index(min(temp))\n",
    "    \n",
    "    alpha, beta = volatility(data, 0.05)\n",
    "\n",
    "    if(x == 0):\n",
    "        final.append([\"LR -\", temp[0]])\n",
    "        modelSelection.append([company[i], \"LR\", LRModelFinal(data), alpha, beta])\n",
    "    elif(x == 1):\n",
    "        final.append([\"SVR -\", temp[1]])\n",
    "        modelSelection.append([company[i], \"SVR\", SVRModelFinal(data, SVR[2]), alpha, beta])\n",
    "    elif(x == 2):\n",
    "        final.append([\"DTR -\", temp[2]])\n",
    "        modelSelection.append([company[i], \"DTR\", DTRModelFinal(data, DTR[2]), alpha, beta])\n",
    "    elif(x == 3):\n",
    "        final.append([\"RF -\", temp[3]])\n",
    "        modelSelection.append([company[i], \"RF\", RFModelFinal(data, RF[2]), alpha, beta])\n",
    "    elif(x == 4):\n",
    "        final.append([\"SMX -\", temp[4]])\n",
    "        modelSelection.append([company[i], \"SMX\", Just_Sarima_Final(data, SMX[2],SMX[3]), alpha, beta])"
   ]
  },
  {
   "cell_type": "markdown",
   "metadata": {},
   "source": [
    "### Company-wise final models(with the rmse)"
   ]
  },
  {
   "cell_type": "code",
   "execution_count": 21,
   "metadata": {},
   "outputs": [
    {
     "name": "stdout",
     "output_type": "stream",
     "text": [
      "SVR - 25.41839602848132\n",
      "LR - 36.82464782447245\n",
      "LR - 9.478288393263188\n",
      "LR - 5.564836521565361\n",
      "SMX - 1.5906825326038534\n",
      "SVR - 4.026181341354423\n",
      "LR - 49.67891917769025\n",
      "SMX - 10.928818771383225\n",
      "SVR - 2.960972649434829\n",
      "SVR - 1.485551004637664\n",
      "LR - 16.724998362287327\n"
     ]
    }
   ],
   "source": [
    "for i in final:\n",
    "    print(i[0], i[1])"
   ]
  },
  {
   "cell_type": "code",
   "execution_count": 22,
   "metadata": {},
   "outputs": [
    {
     "name": "stdout",
     "output_type": "stream",
     "text": [
      "['BAJAJ-AUTO', 'SVR', Pipeline(steps=[('Scaler', StandardScaler()), ('svr', LinearSVR(C=100.0))]), 1.0542303765536762, 3.522538069930945]\n",
      "['BAJFINANCE', 'LR', LinearRegression(), 1.2067322958089777, 1.146650518819952]\n",
      "['HDFCBANK', 'LR', LinearRegression(), -0.2815356988119286, 0.4472519147578698]\n",
      "['INFY', 'LR', LinearRegression(), 1.8406469530639629, 4.237259362415296]\n",
      "['ITC', 'SMX', <statsmodels.tsa.statespace.sarimax.SARIMAXResultsWrapper object at 0x00000174DC15DD00>, 1.2118957419733487, 6.408574061906372]\n",
      "['LICHSGFIN', 'SVR', Pipeline(steps=[('Scaler', StandardScaler()), ('svr', LinearSVR(C=10.0))]), 0.7420716802462886, 4.325034575578774]\n",
      "['PFIZER', 'LR', LinearRegression(), 0.8641865790968715, 0.32211149738557043]\n",
      "['RELIANCE', 'SMX', <statsmodels.tsa.statespace.sarimax.SARIMAXResultsWrapper object at 0x0000017521340430>, 1.0144830960717597, 1.240952476787293]\n",
      "['SBIN', 'SVR', Pipeline(steps=[('Scaler', StandardScaler()), ('svr', LinearSVR(C=100.0))]), 2.0591242026710783, 9.265440119793466]\n",
      "['TATAMOTORS', 'SVR', Pipeline(steps=[('Scaler', StandardScaler()), ('svr', LinearSVR(C=100.0))]), 4.943608969134058, 20.93722960423916]\n",
      "['TCS', 'LR', LinearRegression(), 1.1912125232373616, 2.989635414685532]\n"
     ]
    }
   ],
   "source": [
    "for i in modelSelection:\n",
    "    print(i)"
   ]
  },
  {
   "cell_type": "markdown",
   "metadata": {},
   "source": [
    "### ALPHA vs BETA plot to analyse the character of that company's stock"
   ]
  },
  {
   "cell_type": "code",
   "execution_count": 24,
   "metadata": {},
   "outputs": [
    {
     "data": {
      "text/plain": [
       "Text(0, 0.5, 'Relative risk compared to the market')"
      ]
     },
     "execution_count": 24,
     "metadata": {},
     "output_type": "execute_result"
    },
    {
     "data": {
      "image/png": "[encoded data removed]",
      "text/plain": [
       "<Figure size 1440x720 with 1 Axes>"
      ]
     },
     "metadata": {
      "needs_background": "light"
     },
     "output_type": "display_data"
    }
   ],
   "source": [
    "alpha = []\n",
    "beta = []\n",
    "\n",
    "for i in modelSelection:\n",
    "    alpha.append(i[3])\n",
    "    beta.append(i[4])\n",
    "\n",
    "plt.figure(figsize = (20, 10))\n",
    "plt.scatter(alpha, beta)\n",
    "for i in range(0, len(modelSelection)):\n",
    "    plt.annotate(modelSelection[i][0], (alpha[i], beta[i]))\n",
    "plt.axhline(y=0, color='r')\n",
    "plt.axvline(x=0, color='r')\n",
    "plt.xlim(-20,20)\n",
    "plt.ylim(-8,8)\n",
    "plt.xlabel(\"Returns compared to the market (in %)\")\n",
    "plt.ylabel(\"Relative risk compared to the market\")\n"
   ]
  },
  {
   "cell_type": "code",
   "execution_count": null,
   "metadata": {},
   "outputs": [],
   "source": []
  }
 ],
 "metadata": {
  "interpreter": {
   "hash": "7f61d6da9619131ef9f07f3a4730f148a6e159ea0eb0165f31ac9597d9dc1706"
  },
  "kernelspec": {
   "display_name": "Python 3.9.5 64-bit ('Data Analytics': venv)",
   "language": "python",
   "name": "python3"
  },
  "language_info": {
   "codemirror_mode": {
    "name": "ipython",
    "version": 3
   },
   "file_extension": ".py",
   "mimetype": "text/x-python",
   "name": "python",
   "nbconvert_exporter": "python",
   "pygments_lexer": "ipython3",
   "version": "3.9.5"
  },
  "orig_nbformat": 4
 },
 "nbformat": 4,
 "nbformat_minor": 2
}
