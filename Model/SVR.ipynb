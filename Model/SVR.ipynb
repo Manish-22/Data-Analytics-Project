{
 "cells": [
  {
   "cell_type": "code",
   "execution_count": 3,
   "metadata": {},
   "outputs": [],
   "source": [
    "import pandas as pd\n",
    "from pandas import Series as Series\n",
    "import numpy as np\n",
    "import matplotlib.pyplot as plt\n",
    "from sklearn.svm import SVR\n",
    "from sklearn import metrics\n",
    "from math import sqrt\n"
   ]
  },
  {
   "cell_type": "code",
   "execution_count": 4,
   "metadata": {},
   "outputs": [],
   "source": [
    "def data_split(data):\n",
    "    data_copy = data.copy()\n",
    "    data_copy = data_copy.sort_values('Date')\n",
    "    data_copy.set_index('Date',inplace=True)\n",
    "    data_copy.dropna(inplace=True)\n",
    "    \n",
    "    num_data = data_copy.shape[0]\n",
    "    split_val = int(num_data*0.8)                       # 80:20\n",
    "    train_data = data_copy[:split_val]\n",
    "    test_data = data_copy[split_val:]\n",
    "\n",
    "    X_train = train_data[['Open','High','Low','Volume','Turnover']]\n",
    "    Y_train = train_data[['Close']]\n",
    "\n",
    "    X_test = test_data[['Open','High','Low','Volume','Turnover']]\n",
    "    Y_test = test_data[['Close']]\n",
    "\n",
    "    return X_train,Y_train,X_test,Y_test"
   ]
  },
  {
   "cell_type": "code",
   "execution_count": 5,
   "metadata": {},
   "outputs": [],
   "source": [
    "data = pd.read_csv('../datasets/inidices/NIFTY 50.csv')"
   ]
  },
  {
   "cell_type": "code",
   "execution_count": 6,
   "metadata": {},
   "outputs": [],
   "source": [
    "Xtrain, Ytrain, Xtest, Ytest = data_split(data)"
   ]
  },
  {
   "cell_type": "code",
   "execution_count": 7,
   "metadata": {},
   "outputs": [],
   "source": [
    "def SVRModel(Xtrain, Ytrain, Xtest, Ytest):\n",
    "        svr=SVR(kernel='linear')\n",
    "        model=svr.fit(Xtrain,Ytrain)\n",
    "        predictedSVR=svr.predict(Xtest)\n",
    "        print(sqrt(metrics.mean_squared_error(Ytest, predictedSVR)))\n",
    "        predictedSVR = model.predict(Xtest)\n",
    "        print(sqrt(metrics.mean_squared_error(Ytest, predictedSVR)))"
   ]
  },
  {
   "cell_type": "code",
   "execution_count": 8,
   "metadata": {},
   "outputs": [
    {
     "name": "stderr",
     "output_type": "stream",
     "text": [
      "C:\\Anaconda3\\lib\\site-packages\\sklearn\\utils\\validation.py:724: DataConversionWarning: A column-vector y was passed when a 1d array was expected. Please change the shape of y to (n_samples, ), for example using ravel().\n",
      "  y = column_or_1d(y, warn=True)\n"
     ]
    }
   ],
   "source": [
    "SVRModel(Xtrain, Ytrain, Xtest, Ytest)"
   ]
  },
  {
   "cell_type": "code",
   "execution_count": null,
   "metadata": {},
   "outputs": [],
   "source": []
  }
 ],
 "metadata": {
  "interpreter": {
   "hash": "2db524e06e9f5f4ffedc911c917cb75e12dbc923643829bf417064a77eb14d37"
  },
  "kernelspec": {
   "display_name": "Python 3.8.5 64-bit",
   "language": "python",
   "name": "python3"
  },
  "language_info": {
   "codemirror_mode": {
    "name": "ipython",
    "version": 3
   },
   "file_extension": ".py",
   "mimetype": "text/x-python",
   "name": "python",
   "nbconvert_exporter": "python",
   "pygments_lexer": "ipython3",
   "version": "3.7.4"
  },
  "orig_nbformat": 4
 },
 "nbformat": 4,
 "nbformat_minor": 2
}
